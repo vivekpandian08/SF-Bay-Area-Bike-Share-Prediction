{
  "nbformat": 4,
  "nbformat_minor": 0,
  "metadata": {
    "colab": {
      "name": "Bike_Share_Prediction.ipynb",
      "provenance": [],
      "collapsed_sections": []
    },
    "kernelspec": {
      "name": "python3",
      "display_name": "Python 3"
    }
  },
  "cells": [
    {
      "cell_type": "markdown",
      "metadata": {
        "id": "Ae3diRIWhbmB",
        "colab_type": "text"
      },
      "source": [
        "Downloading and Importing Necessary Libraries:"
      ]
    },
    {
      "cell_type": "code",
      "metadata": {
        "id": "oAH1sxRhhkCG",
        "colab_type": "code",
        "colab": {
          "base_uri": "https://localhost:8080/",
          "height": 1000
        },
        "outputId": "128a3921-dd1b-4692-c124-d7ff0573183c"
      },
      "source": [
        "!pip install fastai==0.7.0"
      ],
      "execution_count": 1,
      "outputs": [
        {
          "output_type": "stream",
          "text": [
            "Collecting fastai==0.7.0\n",
            "\u001b[?25l  Downloading https://files.pythonhosted.org/packages/50/6d/9d0d6e17a78b0598d5e8c49a0d03ffc7ff265ae62eca3e2345fab14edb9b/fastai-0.7.0-py3-none-any.whl (112kB)\n",
            "\r\u001b[K     |███                             | 10kB 13.4MB/s eta 0:00:01\r\u001b[K     |█████▉                          | 20kB 1.8MB/s eta 0:00:01\r\u001b[K     |████████▊                       | 30kB 2.4MB/s eta 0:00:01\r\u001b[K     |███████████▋                    | 40kB 2.5MB/s eta 0:00:01\r\u001b[K     |██████████████▌                 | 51kB 2.0MB/s eta 0:00:01\r\u001b[K     |█████████████████▍              | 61kB 2.2MB/s eta 0:00:01\r\u001b[K     |████████████████████▍           | 71kB 2.5MB/s eta 0:00:01\r\u001b[K     |███████████████████████▎        | 81kB 2.7MB/s eta 0:00:01\r\u001b[K     |██████████████████████████▏     | 92kB 2.9MB/s eta 0:00:01\r\u001b[K     |█████████████████████████████   | 102kB 2.8MB/s eta 0:00:01\r\u001b[K     |████████████████████████████████| 112kB 2.8MB/s eta 0:00:01\r\u001b[K     |████████████████████████████████| 122kB 2.8MB/s \n",
            "\u001b[?25hRequirement already satisfied: seaborn in /usr/local/lib/python3.6/dist-packages (from fastai==0.7.0) (0.10.1)\n",
            "Requirement already satisfied: torchtext in /usr/local/lib/python3.6/dist-packages (from fastai==0.7.0) (0.3.1)\n",
            "Collecting pandas-summary\n",
            "  Downloading https://files.pythonhosted.org/packages/f5/20/865d4785f86e86f7ad7ebd52fc14810ef59ef13cd959f1363a2615d1c665/pandas_summary-0.0.7-py2.py3-none-any.whl\n",
            "Collecting torch<0.4\n",
            "\u001b[?25l  Downloading https://files.pythonhosted.org/packages/5b/a5/e8b50b55b1abac9f1e3346c4242f1e42a82d368a8442cbd50c532922f6c4/torch-0.3.1-cp36-cp36m-manylinux1_x86_64.whl (496.4MB)\n",
            "\u001b[K     |████████████████████████████████| 496.4MB 15kB/s \n",
            "\u001b[?25hRequirement already satisfied: certifi in /usr/local/lib/python3.6/dist-packages (from fastai==0.7.0) (2020.6.20)\n",
            "Requirement already satisfied: PyYAML in /usr/local/lib/python3.6/dist-packages (from fastai==0.7.0) (3.13)\n",
            "Requirement already satisfied: testpath in /usr/local/lib/python3.6/dist-packages (from fastai==0.7.0) (0.4.4)\n",
            "Requirement already satisfied: pickleshare in /usr/local/lib/python3.6/dist-packages (from fastai==0.7.0) (0.7.5)\n",
            "Requirement already satisfied: ipywidgets in /usr/local/lib/python3.6/dist-packages (from fastai==0.7.0) (7.5.1)\n",
            "Requirement already satisfied: wcwidth in /usr/local/lib/python3.6/dist-packages (from fastai==0.7.0) (0.2.5)\n",
            "Requirement already satisfied: ipython in /usr/local/lib/python3.6/dist-packages (from fastai==0.7.0) (5.5.0)\n",
            "Requirement already satisfied: ipython-genutils in /usr/local/lib/python3.6/dist-packages (from fastai==0.7.0) (0.2.0)\n",
            "Requirement already satisfied: pytz in /usr/local/lib/python3.6/dist-packages (from fastai==0.7.0) (2018.9)\n",
            "Requirement already satisfied: matplotlib in /usr/local/lib/python3.6/dist-packages (from fastai==0.7.0) (3.2.2)\n",
            "Requirement already satisfied: sklearn-pandas in /usr/local/lib/python3.6/dist-packages (from fastai==0.7.0) (1.8.0)\n",
            "Requirement already satisfied: tqdm in /usr/local/lib/python3.6/dist-packages (from fastai==0.7.0) (4.41.1)\n",
            "Requirement already satisfied: tornado in /usr/local/lib/python3.6/dist-packages (from fastai==0.7.0) (4.5.3)\n",
            "Requirement already satisfied: opencv-python in /usr/local/lib/python3.6/dist-packages (from fastai==0.7.0) (4.1.2.30)\n",
            "Requirement already satisfied: simplegeneric in /usr/local/lib/python3.6/dist-packages (from fastai==0.7.0) (0.8.1)\n",
            "Requirement already satisfied: Jinja2 in /usr/local/lib/python3.6/dist-packages (from fastai==0.7.0) (2.11.2)\n",
            "Requirement already satisfied: pyzmq in /usr/local/lib/python3.6/dist-packages (from fastai==0.7.0) (19.0.1)\n",
            "Requirement already satisfied: feather-format in /usr/local/lib/python3.6/dist-packages (from fastai==0.7.0) (0.4.1)\n",
            "Requirement already satisfied: widgetsnbextension in /usr/local/lib/python3.6/dist-packages (from fastai==0.7.0) (3.5.1)\n",
            "Requirement already satisfied: python-dateutil in /usr/local/lib/python3.6/dist-packages (from fastai==0.7.0) (2.8.1)\n",
            "Requirement already satisfied: pandas in /usr/local/lib/python3.6/dist-packages (from fastai==0.7.0) (1.0.5)\n",
            "Requirement already satisfied: torchvision in /usr/local/lib/python3.6/dist-packages (from fastai==0.7.0) (0.6.1+cu101)\n",
            "Requirement already satisfied: ipykernel in /usr/local/lib/python3.6/dist-packages (from fastai==0.7.0) (4.10.1)\n",
            "Requirement already satisfied: jupyter in /usr/local/lib/python3.6/dist-packages (from fastai==0.7.0) (1.0.0)\n",
            "Requirement already satisfied: scipy in /usr/local/lib/python3.6/dist-packages (from fastai==0.7.0) (1.4.1)\n",
            "Requirement already satisfied: MarkupSafe in /usr/local/lib/python3.6/dist-packages (from fastai==0.7.0) (1.1.1)\n",
            "Requirement already satisfied: graphviz in /usr/local/lib/python3.6/dist-packages (from fastai==0.7.0) (0.10.1)\n",
            "Collecting isoweek\n",
            "  Downloading https://files.pythonhosted.org/packages/c2/d4/fe7e2637975c476734fcbf53776e650a29680194eb0dd21dbdc020ca92de/isoweek-1.3.3-py2.py3-none-any.whl\n",
            "Requirement already satisfied: plotnine in /usr/local/lib/python3.6/dist-packages (from fastai==0.7.0) (0.6.0)\n",
            "Requirement already satisfied: Pygments in /usr/local/lib/python3.6/dist-packages (from fastai==0.7.0) (2.1.3)\n",
            "Requirement already satisfied: numpy in /usr/local/lib/python3.6/dist-packages (from fastai==0.7.0) (1.18.5)\n",
            "Requirement already satisfied: cycler in /usr/local/lib/python3.6/dist-packages (from fastai==0.7.0) (0.10.0)\n",
            "Requirement already satisfied: traitlets in /usr/local/lib/python3.6/dist-packages (from fastai==0.7.0) (4.3.3)\n",
            "Requirement already satisfied: jedi in /usr/local/lib/python3.6/dist-packages (from fastai==0.7.0) (0.17.1)\n",
            "Requirement already satisfied: webencodings in /usr/local/lib/python3.6/dist-packages (from fastai==0.7.0) (0.5.1)\n",
            "Requirement already satisfied: entrypoints in /usr/local/lib/python3.6/dist-packages (from fastai==0.7.0) (0.3)\n",
            "Requirement already satisfied: jsonschema in /usr/local/lib/python3.6/dist-packages (from fastai==0.7.0) (2.6.0)\n",
            "Requirement already satisfied: ptyprocess in /usr/local/lib/python3.6/dist-packages (from fastai==0.7.0) (0.6.0)\n",
            "Collecting bcolz\n",
            "\u001b[?25l  Downloading https://files.pythonhosted.org/packages/5c/4e/23942de9d5c0fb16f10335fa83e52b431bcb8c0d4a8419c9ac206268c279/bcolz-1.2.1.tar.gz (1.5MB)\n",
            "\u001b[K     |████████████████████████████████| 1.5MB 43.7MB/s \n",
            "\u001b[?25hRequirement already satisfied: decorator in /usr/local/lib/python3.6/dist-packages (from fastai==0.7.0) (4.4.2)\n",
            "Requirement already satisfied: html5lib in /usr/local/lib/python3.6/dist-packages (from fastai==0.7.0) (1.0.1)\n",
            "Requirement already satisfied: pyparsing in /usr/local/lib/python3.6/dist-packages (from fastai==0.7.0) (2.4.7)\n",
            "Requirement already satisfied: Pillow in /usr/local/lib/python3.6/dist-packages (from fastai==0.7.0) (7.0.0)\n",
            "Requirement already satisfied: bleach in /usr/local/lib/python3.6/dist-packages (from fastai==0.7.0) (3.1.5)\n",
            "Requirement already satisfied: requests in /usr/local/lib/python3.6/dist-packages (from torchtext->fastai==0.7.0) (2.23.0)\n",
            "Requirement already satisfied: nbformat>=4.2.0 in /usr/local/lib/python3.6/dist-packages (from ipywidgets->fastai==0.7.0) (5.0.7)\n",
            "Requirement already satisfied: setuptools>=18.5 in /usr/local/lib/python3.6/dist-packages (from ipython->fastai==0.7.0) (49.1.0)\n",
            "Requirement already satisfied: prompt-toolkit<2.0.0,>=1.0.4 in /usr/local/lib/python3.6/dist-packages (from ipython->fastai==0.7.0) (1.0.18)\n",
            "Requirement already satisfied: pexpect; sys_platform != \"win32\" in /usr/local/lib/python3.6/dist-packages (from ipython->fastai==0.7.0) (4.8.0)\n",
            "Requirement already satisfied: kiwisolver>=1.0.1 in /usr/local/lib/python3.6/dist-packages (from matplotlib->fastai==0.7.0) (1.2.0)\n",
            "Requirement already satisfied: scikit-learn>=0.15.0 in /usr/local/lib/python3.6/dist-packages (from sklearn-pandas->fastai==0.7.0) (0.22.2.post1)\n",
            "Requirement already satisfied: pyarrow>=0.4.0 in /usr/local/lib/python3.6/dist-packages (from feather-format->fastai==0.7.0) (0.14.1)\n",
            "Requirement already satisfied: notebook>=4.4.1 in /usr/local/lib/python3.6/dist-packages (from widgetsnbextension->fastai==0.7.0) (5.2.2)\n",
            "Requirement already satisfied: six>=1.5 in /usr/local/lib/python3.6/dist-packages (from python-dateutil->fastai==0.7.0) (1.12.0)\n",
            "Requirement already satisfied: jupyter-client in /usr/local/lib/python3.6/dist-packages (from ipykernel->fastai==0.7.0) (5.3.5)\n",
            "Requirement already satisfied: nbconvert in /usr/local/lib/python3.6/dist-packages (from jupyter->fastai==0.7.0) (5.6.1)\n",
            "Requirement already satisfied: qtconsole in /usr/local/lib/python3.6/dist-packages (from jupyter->fastai==0.7.0) (4.7.5)\n",
            "Requirement already satisfied: jupyter-console in /usr/local/lib/python3.6/dist-packages (from jupyter->fastai==0.7.0) (5.2.0)\n",
            "Requirement already satisfied: descartes>=1.1.0 in /usr/local/lib/python3.6/dist-packages (from plotnine->fastai==0.7.0) (1.1.0)\n",
            "Requirement already satisfied: statsmodels>=0.9.0 in /usr/local/lib/python3.6/dist-packages (from plotnine->fastai==0.7.0) (0.10.2)\n",
            "Requirement already satisfied: patsy>=0.4.1 in /usr/local/lib/python3.6/dist-packages (from plotnine->fastai==0.7.0) (0.5.1)\n",
            "Requirement already satisfied: mizani>=0.6.0 in /usr/local/lib/python3.6/dist-packages (from plotnine->fastai==0.7.0) (0.6.0)\n",
            "Requirement already satisfied: parso<0.8.0,>=0.7.0 in /usr/local/lib/python3.6/dist-packages (from jedi->fastai==0.7.0) (0.7.0)\n",
            "Requirement already satisfied: packaging in /usr/local/lib/python3.6/dist-packages (from bleach->fastai==0.7.0) (20.4)\n",
            "Requirement already satisfied: idna<3,>=2.5 in /usr/local/lib/python3.6/dist-packages (from requests->torchtext->fastai==0.7.0) (2.10)\n",
            "Requirement already satisfied: urllib3!=1.25.0,!=1.25.1,<1.26,>=1.21.1 in /usr/local/lib/python3.6/dist-packages (from requests->torchtext->fastai==0.7.0) (1.24.3)\n",
            "Requirement already satisfied: chardet<4,>=3.0.2 in /usr/local/lib/python3.6/dist-packages (from requests->torchtext->fastai==0.7.0) (3.0.4)\n",
            "Requirement already satisfied: jupyter-core in /usr/local/lib/python3.6/dist-packages (from nbformat>=4.2.0->ipywidgets->fastai==0.7.0) (4.6.3)\n",
            "Requirement already satisfied: joblib>=0.11 in /usr/local/lib/python3.6/dist-packages (from scikit-learn>=0.15.0->sklearn-pandas->fastai==0.7.0) (0.16.0)\n",
            "Requirement already satisfied: terminado>=0.3.3; sys_platform != \"win32\" in /usr/local/lib/python3.6/dist-packages (from notebook>=4.4.1->widgetsnbextension->fastai==0.7.0) (0.8.3)\n",
            "Requirement already satisfied: mistune<2,>=0.8.1 in /usr/local/lib/python3.6/dist-packages (from nbconvert->jupyter->fastai==0.7.0) (0.8.4)\n",
            "Requirement already satisfied: defusedxml in /usr/local/lib/python3.6/dist-packages (from nbconvert->jupyter->fastai==0.7.0) (0.6.0)\n",
            "Requirement already satisfied: pandocfilters>=1.4.1 in /usr/local/lib/python3.6/dist-packages (from nbconvert->jupyter->fastai==0.7.0) (1.4.2)\n",
            "Requirement already satisfied: qtpy in /usr/local/lib/python3.6/dist-packages (from qtconsole->jupyter->fastai==0.7.0) (1.9.0)\n",
            "Requirement already satisfied: palettable in /usr/local/lib/python3.6/dist-packages (from mizani>=0.6.0->plotnine->fastai==0.7.0) (3.3.0)\n",
            "Building wheels for collected packages: bcolz\n",
            "  Building wheel for bcolz (setup.py) ... \u001b[?25l\u001b[?25hdone\n",
            "  Created wheel for bcolz: filename=bcolz-1.2.1-cp36-cp36m-linux_x86_64.whl size=2659316 sha256=77988c344f0892b1185327e3fd7f7054fd498323a3874f70b5f4b876a02d0d2d\n",
            "  Stored in directory: /root/.cache/pip/wheels/9f/78/26/fb8c0acb91a100dc8914bf236c4eaa4b207cb876893c40b745\n",
            "Successfully built bcolz\n",
            "\u001b[31mERROR: torchvision 0.6.1+cu101 has requirement torch==1.5.1, but you'll have torch 0.3.1 which is incompatible.\u001b[0m\n",
            "Installing collected packages: pandas-summary, torch, isoweek, bcolz, fastai\n",
            "  Found existing installation: torch 1.5.1+cu101\n",
            "    Uninstalling torch-1.5.1+cu101:\n",
            "      Successfully uninstalled torch-1.5.1+cu101\n",
            "  Found existing installation: fastai 1.0.61\n",
            "    Uninstalling fastai-1.0.61:\n",
            "      Successfully uninstalled fastai-1.0.61\n",
            "Successfully installed bcolz-1.2.1 fastai-0.7.0 isoweek-1.3.3 pandas-summary-0.0.7 torch-0.3.1\n"
          ],
          "name": "stdout"
        }
      ]
    },
    {
      "cell_type": "code",
      "metadata": {
        "id": "Xc5BUiEnimEu",
        "colab_type": "code",
        "colab": {
          "base_uri": "https://localhost:8080/",
          "height": 129
        },
        "outputId": "d376e202-5373-447e-8b40-5046a31ef330"
      },
      "source": [
        "!pip install pandas_summary"
      ],
      "execution_count": 2,
      "outputs": [
        {
          "output_type": "stream",
          "text": [
            "Requirement already satisfied: pandas_summary in /usr/local/lib/python3.6/dist-packages (0.0.7)\n",
            "Requirement already satisfied: pandas in /usr/local/lib/python3.6/dist-packages (from pandas_summary) (1.0.5)\n",
            "Requirement already satisfied: numpy in /usr/local/lib/python3.6/dist-packages (from pandas_summary) (1.18.5)\n",
            "Requirement already satisfied: pytz>=2017.2 in /usr/local/lib/python3.6/dist-packages (from pandas->pandas_summary) (2018.9)\n",
            "Requirement already satisfied: python-dateutil>=2.6.1 in /usr/local/lib/python3.6/dist-packages (from pandas->pandas_summary) (2.8.1)\n",
            "Requirement already satisfied: six>=1.5 in /usr/local/lib/python3.6/dist-packages (from python-dateutil>=2.6.1->pandas->pandas_summary) (1.12.0)\n"
          ],
          "name": "stdout"
        }
      ]
    },
    {
      "cell_type": "code",
      "metadata": {
        "id": "rl_asXxChkFl",
        "colab_type": "code",
        "colab": {
          "base_uri": "https://localhost:8080/",
          "height": 17
        },
        "outputId": "77e2e009-dc07-41e8-9b79-df52e0eeb762"
      },
      "source": [
        "import numpy as np\n",
        "import pandas as pd\n",
        "import matplotlib.pyplot as plt\n",
        "import seaborn as sns\n",
        "from sklearn.model_selection import train_test_split\n",
        "from sklearn.preprocessing import StandardScaler \n",
        "from sklearn import preprocessing, model_selection, metrics\n",
        "\n",
        "from plotly.offline import init_notebook_mode, iplot\n",
        "init_notebook_mode(connected=True)\n",
        "import plotly.graph_objs as go\n",
        "\n",
        "from sklearn.impute import SimpleImputer \n",
        "\n",
        "from fastai.imports import *\n",
        "from fastai.structured import *\n",
        "\n",
        "from pandas_summary import DataFrameSummary\n",
        "from IPython.display import display\n",
        "%matplotlib inline\n",
        "\n",
        "\n",
        "import warnings\n",
        "warnings.filterwarnings('ignore')"
      ],
      "execution_count": 5,
      "outputs": [
        {
          "output_type": "display_data",
          "data": {
            "text/html": [
              "        <script type=\"text/javascript\">\n",
              "        window.PlotlyConfig = {MathJaxConfig: 'local'};\n",
              "        if (window.MathJax) {MathJax.Hub.Config({SVG: {font: \"STIX-Web\"}});}\n",
              "        if (typeof require !== 'undefined') {\n",
              "        require.undef(\"plotly\");\n",
              "        requirejs.config({\n",
              "            paths: {\n",
              "                'plotly': ['https://cdn.plot.ly/plotly-latest.min']\n",
              "            }\n",
              "        });\n",
              "        require(['plotly'], function(Plotly) {\n",
              "            window._Plotly = Plotly;\n",
              "        });\n",
              "        }\n",
              "        </script>\n",
              "        "
            ]
          },
          "metadata": {
            "tags": []
          }
        }
      ]
    },
    {
      "cell_type": "markdown",
      "metadata": {
        "id": "zcMiEi2GiuBP",
        "colab_type": "text"
      },
      "source": [
        "# Data Preparation:\n",
        "Loading data:"
      ]
    },
    {
      "cell_type": "code",
      "metadata": {
        "id": "q3Brk-LSh6_n",
        "colab_type": "code",
        "colab": {}
      },
      "source": [
        "trip=pd.read_csv('/content/trip.csv')\n",
        "station=pd.read_csv('/content/station.csv')\n",
        "weather=pd.read_csv('/content/weather.csv')"
      ],
      "execution_count": 6,
      "outputs": []
    },
    {
      "cell_type": "code",
      "metadata": {
        "id": "mhIFRO__jXTc",
        "colab_type": "code",
        "colab": {
          "base_uri": "https://localhost:8080/",
          "height": 353
        },
        "outputId": "295020f3-5389-44ce-81bd-cd84a2f01069"
      },
      "source": [
        "trip.info()"
      ],
      "execution_count": 7,
      "outputs": [
        {
          "output_type": "stream",
          "text": [
            "<class 'pandas.core.frame.DataFrame'>\n",
            "RangeIndex: 669959 entries, 0 to 669958\n",
            "Data columns (total 11 columns):\n",
            " #   Column              Non-Null Count   Dtype \n",
            "---  ------              --------------   ----- \n",
            " 0   id                  669959 non-null  int64 \n",
            " 1   duration            669959 non-null  int64 \n",
            " 2   start_date          669959 non-null  object\n",
            " 3   start_station_name  669959 non-null  object\n",
            " 4   start_station_id    669959 non-null  int64 \n",
            " 5   end_date            669959 non-null  object\n",
            " 6   end_station_name    669959 non-null  object\n",
            " 7   end_station_id      669959 non-null  int64 \n",
            " 8   bike_id             669959 non-null  int64 \n",
            " 9   subscription_type   669959 non-null  object\n",
            " 10  zip_code            663340 non-null  object\n",
            "dtypes: int64(5), object(6)\n",
            "memory usage: 56.2+ MB\n"
          ],
          "name": "stdout"
        }
      ]
    },
    {
      "cell_type": "markdown",
      "metadata": {
        "id": "rkGhVGOskNtU",
        "colab_type": "text"
      },
      "source": [
        "Create a column called \"date\", so that we can join with weather table"
      ]
    },
    {
      "cell_type": "code",
      "metadata": {
        "id": "225jM5-zkZ9B",
        "colab_type": "code",
        "colab": {}
      },
      "source": [
        "trip['start_date']=pd.to_datetime(trip['start_date'])"
      ],
      "execution_count": 8,
      "outputs": []
    },
    {
      "cell_type": "code",
      "metadata": {
        "id": "lr9R9CZnm4u3",
        "colab_type": "code",
        "colab": {}
      },
      "source": [
        "trip['date'] = [d.date() for d in trip['start_date']]"
      ],
      "execution_count": 9,
      "outputs": []
    },
    {
      "cell_type": "code",
      "metadata": {
        "id": "XA4mIZCynZSs",
        "colab_type": "code",
        "colab": {}
      },
      "source": [
        "trip['date']=pd.to_datetime(trip['date'])"
      ],
      "execution_count": 10,
      "outputs": []
    },
    {
      "cell_type": "code",
      "metadata": {
        "id": "G3UiVUVDh7C-",
        "colab_type": "code",
        "colab": {
          "base_uri": "https://localhost:8080/",
          "height": 112
        },
        "outputId": "2bdf5441-4ef3-42f7-b698-ee0a06df1486"
      },
      "source": [
        "trip.head(2)"
      ],
      "execution_count": 11,
      "outputs": [
        {
          "output_type": "execute_result",
          "data": {
            "text/html": [
              "<div>\n",
              "<style scoped>\n",
              "    .dataframe tbody tr th:only-of-type {\n",
              "        vertical-align: middle;\n",
              "    }\n",
              "\n",
              "    .dataframe tbody tr th {\n",
              "        vertical-align: top;\n",
              "    }\n",
              "\n",
              "    .dataframe thead th {\n",
              "        text-align: right;\n",
              "    }\n",
              "</style>\n",
              "<table border=\"1\" class=\"dataframe\">\n",
              "  <thead>\n",
              "    <tr style=\"text-align: right;\">\n",
              "      <th></th>\n",
              "      <th>id</th>\n",
              "      <th>duration</th>\n",
              "      <th>start_date</th>\n",
              "      <th>start_station_name</th>\n",
              "      <th>start_station_id</th>\n",
              "      <th>end_date</th>\n",
              "      <th>end_station_name</th>\n",
              "      <th>end_station_id</th>\n",
              "      <th>bike_id</th>\n",
              "      <th>subscription_type</th>\n",
              "      <th>zip_code</th>\n",
              "      <th>date</th>\n",
              "    </tr>\n",
              "  </thead>\n",
              "  <tbody>\n",
              "    <tr>\n",
              "      <th>0</th>\n",
              "      <td>4576</td>\n",
              "      <td>63</td>\n",
              "      <td>2013-08-29 14:13:00</td>\n",
              "      <td>South Van Ness at Market</td>\n",
              "      <td>66</td>\n",
              "      <td>8/29/2013 14:14</td>\n",
              "      <td>South Van Ness at Market</td>\n",
              "      <td>66</td>\n",
              "      <td>520</td>\n",
              "      <td>Subscriber</td>\n",
              "      <td>94127</td>\n",
              "      <td>2013-08-29</td>\n",
              "    </tr>\n",
              "    <tr>\n",
              "      <th>1</th>\n",
              "      <td>4607</td>\n",
              "      <td>70</td>\n",
              "      <td>2013-08-29 14:42:00</td>\n",
              "      <td>San Jose City Hall</td>\n",
              "      <td>10</td>\n",
              "      <td>8/29/2013 14:43</td>\n",
              "      <td>San Jose City Hall</td>\n",
              "      <td>10</td>\n",
              "      <td>661</td>\n",
              "      <td>Subscriber</td>\n",
              "      <td>95138</td>\n",
              "      <td>2013-08-29</td>\n",
              "    </tr>\n",
              "  </tbody>\n",
              "</table>\n",
              "</div>"
            ],
            "text/plain": [
              "     id  duration          start_date  ... subscription_type  zip_code       date\n",
              "0  4576        63 2013-08-29 14:13:00  ...        Subscriber     94127 2013-08-29\n",
              "1  4607        70 2013-08-29 14:42:00  ...        Subscriber     95138 2013-08-29\n",
              "\n",
              "[2 rows x 12 columns]"
            ]
          },
          "metadata": {
            "tags": []
          },
          "execution_count": 11
        }
      ]
    },
    {
      "cell_type": "code",
      "metadata": {
        "id": "NQPtmDsOkyMR",
        "colab_type": "code",
        "colab": {
          "base_uri": "https://localhost:8080/",
          "height": 372
        },
        "outputId": "1e88b78b-0ab6-4948-c031-2ae9c40878ed"
      },
      "source": [
        "trip.info()"
      ],
      "execution_count": 12,
      "outputs": [
        {
          "output_type": "stream",
          "text": [
            "<class 'pandas.core.frame.DataFrame'>\n",
            "RangeIndex: 669959 entries, 0 to 669958\n",
            "Data columns (total 12 columns):\n",
            " #   Column              Non-Null Count   Dtype         \n",
            "---  ------              --------------   -----         \n",
            " 0   id                  669959 non-null  int64         \n",
            " 1   duration            669959 non-null  int64         \n",
            " 2   start_date          669959 non-null  datetime64[ns]\n",
            " 3   start_station_name  669959 non-null  object        \n",
            " 4   start_station_id    669959 non-null  int64         \n",
            " 5   end_date            669959 non-null  object        \n",
            " 6   end_station_name    669959 non-null  object        \n",
            " 7   end_station_id      669959 non-null  int64         \n",
            " 8   bike_id             669959 non-null  int64         \n",
            " 9   subscription_type   669959 non-null  object        \n",
            " 10  zip_code            663340 non-null  object        \n",
            " 11  date                669959 non-null  datetime64[ns]\n",
            "dtypes: datetime64[ns](2), int64(5), object(5)\n",
            "memory usage: 61.3+ MB\n"
          ],
          "name": "stdout"
        }
      ]
    },
    {
      "cell_type": "code",
      "metadata": {
        "id": "-U4SCkafkkqS",
        "colab_type": "code",
        "colab": {
          "base_uri": "https://localhost:8080/",
          "height": 36
        },
        "outputId": "a41207a6-80fc-474f-a89a-419d315645a8"
      },
      "source": [
        "trip.shape"
      ],
      "execution_count": 13,
      "outputs": [
        {
          "output_type": "execute_result",
          "data": {
            "text/plain": [
              "(669959, 12)"
            ]
          },
          "metadata": {
            "tags": []
          },
          "execution_count": 13
        }
      ]
    },
    {
      "cell_type": "code",
      "metadata": {
        "id": "VMdjpZ0dh7HJ",
        "colab_type": "code",
        "colab": {
          "base_uri": "https://localhost:8080/",
          "height": 112
        },
        "outputId": "ed8dff75-3fa1-41e1-dad8-d5ac2a07903d"
      },
      "source": [
        "station.head(2)"
      ],
      "execution_count": 14,
      "outputs": [
        {
          "output_type": "execute_result",
          "data": {
            "text/html": [
              "<div>\n",
              "<style scoped>\n",
              "    .dataframe tbody tr th:only-of-type {\n",
              "        vertical-align: middle;\n",
              "    }\n",
              "\n",
              "    .dataframe tbody tr th {\n",
              "        vertical-align: top;\n",
              "    }\n",
              "\n",
              "    .dataframe thead th {\n",
              "        text-align: right;\n",
              "    }\n",
              "</style>\n",
              "<table border=\"1\" class=\"dataframe\">\n",
              "  <thead>\n",
              "    <tr style=\"text-align: right;\">\n",
              "      <th></th>\n",
              "      <th>id</th>\n",
              "      <th>name</th>\n",
              "      <th>lat</th>\n",
              "      <th>long</th>\n",
              "      <th>dock_count</th>\n",
              "      <th>city</th>\n",
              "      <th>installation_date</th>\n",
              "    </tr>\n",
              "  </thead>\n",
              "  <tbody>\n",
              "    <tr>\n",
              "      <th>0</th>\n",
              "      <td>2</td>\n",
              "      <td>San Jose Diridon Caltrain Station</td>\n",
              "      <td>37.329732</td>\n",
              "      <td>-121.901782</td>\n",
              "      <td>27</td>\n",
              "      <td>San Jose</td>\n",
              "      <td>8/6/2013</td>\n",
              "    </tr>\n",
              "    <tr>\n",
              "      <th>1</th>\n",
              "      <td>3</td>\n",
              "      <td>San Jose Civic Center</td>\n",
              "      <td>37.330698</td>\n",
              "      <td>-121.888979</td>\n",
              "      <td>15</td>\n",
              "      <td>San Jose</td>\n",
              "      <td>8/5/2013</td>\n",
              "    </tr>\n",
              "  </tbody>\n",
              "</table>\n",
              "</div>"
            ],
            "text/plain": [
              "   id                               name  ...      city  installation_date\n",
              "0   2  San Jose Diridon Caltrain Station  ...  San Jose           8/6/2013\n",
              "1   3              San Jose Civic Center  ...  San Jose           8/5/2013\n",
              "\n",
              "[2 rows x 7 columns]"
            ]
          },
          "metadata": {
            "tags": []
          },
          "execution_count": 14
        }
      ]
    },
    {
      "cell_type": "code",
      "metadata": {
        "id": "AJY5H3ItMJqZ",
        "colab_type": "code",
        "colab": {}
      },
      "source": [
        "station['start_station_id']=station['id']"
      ],
      "execution_count": 15,
      "outputs": []
    },
    {
      "cell_type": "code",
      "metadata": {
        "id": "bAdmEy7Bk8_8",
        "colab_type": "code",
        "colab": {}
      },
      "source": [
        "weather['date']=pd.to_datetime(weather['date'])"
      ],
      "execution_count": 16,
      "outputs": []
    },
    {
      "cell_type": "code",
      "metadata": {
        "id": "yPyOtoXxjIZH",
        "colab_type": "code",
        "colab": {
          "base_uri": "https://localhost:8080/",
          "height": 596
        },
        "outputId": "8b6c80de-26b5-4337-e29f-3d97c8eacb03"
      },
      "source": [
        "weather.info()"
      ],
      "execution_count": 17,
      "outputs": [
        {
          "output_type": "stream",
          "text": [
            "<class 'pandas.core.frame.DataFrame'>\n",
            "RangeIndex: 3665 entries, 0 to 3664\n",
            "Data columns (total 24 columns):\n",
            " #   Column                          Non-Null Count  Dtype         \n",
            "---  ------                          --------------  -----         \n",
            " 0   date                            3665 non-null   datetime64[ns]\n",
            " 1   max_temperature_f               3661 non-null   float64       \n",
            " 2   mean_temperature_f              3661 non-null   float64       \n",
            " 3   min_temperature_f               3661 non-null   float64       \n",
            " 4   max_dew_point_f                 3611 non-null   float64       \n",
            " 5   mean_dew_point_f                3611 non-null   float64       \n",
            " 6   min_dew_point_f                 3611 non-null   float64       \n",
            " 7   max_humidity                    3611 non-null   float64       \n",
            " 8   mean_humidity                   3611 non-null   float64       \n",
            " 9   min_humidity                    3611 non-null   float64       \n",
            " 10  max_sea_level_pressure_inches   3664 non-null   float64       \n",
            " 11  mean_sea_level_pressure_inches  3664 non-null   float64       \n",
            " 12  min_sea_level_pressure_inches   3664 non-null   float64       \n",
            " 13  max_visibility_miles            3652 non-null   float64       \n",
            " 14  mean_visibility_miles           3652 non-null   float64       \n",
            " 15  min_visibility_miles            3652 non-null   float64       \n",
            " 16  max_wind_Speed_mph              3664 non-null   float64       \n",
            " 17  mean_wind_speed_mph             3664 non-null   float64       \n",
            " 18  max_gust_speed_mph              2766 non-null   float64       \n",
            " 19  precipitation_inches            3664 non-null   object        \n",
            " 20  cloud_cover                     3664 non-null   float64       \n",
            " 21  events                          522 non-null    object        \n",
            " 22  wind_dir_degrees                3664 non-null   float64       \n",
            " 23  zip_code                        3665 non-null   int64         \n",
            "dtypes: datetime64[ns](1), float64(20), int64(1), object(2)\n",
            "memory usage: 687.3+ KB\n"
          ],
          "name": "stdout"
        }
      ]
    },
    {
      "cell_type": "code",
      "metadata": {
        "id": "uWBfVU_1mNSu",
        "colab_type": "code",
        "colab": {
          "base_uri": "https://localhost:8080/",
          "height": 36
        },
        "outputId": "adf71253-aacd-4bde-bb03-8ee83cc64c75"
      },
      "source": [
        "weather.shape"
      ],
      "execution_count": 18,
      "outputs": [
        {
          "output_type": "execute_result",
          "data": {
            "text/plain": [
              "(3665, 24)"
            ]
          },
          "metadata": {
            "tags": []
          },
          "execution_count": 18
        }
      ]
    },
    {
      "cell_type": "code",
      "metadata": {
        "id": "JZgGmXUfpCdi",
        "colab_type": "code",
        "colab": {}
      },
      "source": [
        "weather['zip_code']=weather['zip_code'].astype(str)"
      ],
      "execution_count": 19,
      "outputs": []
    },
    {
      "cell_type": "code",
      "metadata": {
        "id": "Qwn4KBZEqf44",
        "colab_type": "code",
        "colab": {
          "base_uri": "https://localhost:8080/",
          "height": 596
        },
        "outputId": "e0e69a7c-84ae-44c1-cde3-7c576fa31bf9"
      },
      "source": [
        "weather.info()"
      ],
      "execution_count": 20,
      "outputs": [
        {
          "output_type": "stream",
          "text": [
            "<class 'pandas.core.frame.DataFrame'>\n",
            "RangeIndex: 3665 entries, 0 to 3664\n",
            "Data columns (total 24 columns):\n",
            " #   Column                          Non-Null Count  Dtype         \n",
            "---  ------                          --------------  -----         \n",
            " 0   date                            3665 non-null   datetime64[ns]\n",
            " 1   max_temperature_f               3661 non-null   float64       \n",
            " 2   mean_temperature_f              3661 non-null   float64       \n",
            " 3   min_temperature_f               3661 non-null   float64       \n",
            " 4   max_dew_point_f                 3611 non-null   float64       \n",
            " 5   mean_dew_point_f                3611 non-null   float64       \n",
            " 6   min_dew_point_f                 3611 non-null   float64       \n",
            " 7   max_humidity                    3611 non-null   float64       \n",
            " 8   mean_humidity                   3611 non-null   float64       \n",
            " 9   min_humidity                    3611 non-null   float64       \n",
            " 10  max_sea_level_pressure_inches   3664 non-null   float64       \n",
            " 11  mean_sea_level_pressure_inches  3664 non-null   float64       \n",
            " 12  min_sea_level_pressure_inches   3664 non-null   float64       \n",
            " 13  max_visibility_miles            3652 non-null   float64       \n",
            " 14  mean_visibility_miles           3652 non-null   float64       \n",
            " 15  min_visibility_miles            3652 non-null   float64       \n",
            " 16  max_wind_Speed_mph              3664 non-null   float64       \n",
            " 17  mean_wind_speed_mph             3664 non-null   float64       \n",
            " 18  max_gust_speed_mph              2766 non-null   float64       \n",
            " 19  precipitation_inches            3664 non-null   object        \n",
            " 20  cloud_cover                     3664 non-null   float64       \n",
            " 21  events                          522 non-null    object        \n",
            " 22  wind_dir_degrees                3664 non-null   float64       \n",
            " 23  zip_code                        3665 non-null   object        \n",
            "dtypes: datetime64[ns](1), float64(20), object(3)\n",
            "memory usage: 687.3+ KB\n"
          ],
          "name": "stdout"
        }
      ]
    },
    {
      "cell_type": "code",
      "metadata": {
        "id": "E5jTkaOgjIWE",
        "colab_type": "code",
        "colab": {
          "base_uri": "https://localhost:8080/",
          "height": 132
        },
        "outputId": "d805c42b-5e0c-4208-cec4-20f594bca1ad"
      },
      "source": [
        "weather.head(2)"
      ],
      "execution_count": 21,
      "outputs": [
        {
          "output_type": "execute_result",
          "data": {
            "text/html": [
              "<div>\n",
              "<style scoped>\n",
              "    .dataframe tbody tr th:only-of-type {\n",
              "        vertical-align: middle;\n",
              "    }\n",
              "\n",
              "    .dataframe tbody tr th {\n",
              "        vertical-align: top;\n",
              "    }\n",
              "\n",
              "    .dataframe thead th {\n",
              "        text-align: right;\n",
              "    }\n",
              "</style>\n",
              "<table border=\"1\" class=\"dataframe\">\n",
              "  <thead>\n",
              "    <tr style=\"text-align: right;\">\n",
              "      <th></th>\n",
              "      <th>date</th>\n",
              "      <th>max_temperature_f</th>\n",
              "      <th>mean_temperature_f</th>\n",
              "      <th>min_temperature_f</th>\n",
              "      <th>max_dew_point_f</th>\n",
              "      <th>mean_dew_point_f</th>\n",
              "      <th>min_dew_point_f</th>\n",
              "      <th>max_humidity</th>\n",
              "      <th>mean_humidity</th>\n",
              "      <th>min_humidity</th>\n",
              "      <th>max_sea_level_pressure_inches</th>\n",
              "      <th>mean_sea_level_pressure_inches</th>\n",
              "      <th>min_sea_level_pressure_inches</th>\n",
              "      <th>max_visibility_miles</th>\n",
              "      <th>mean_visibility_miles</th>\n",
              "      <th>min_visibility_miles</th>\n",
              "      <th>max_wind_Speed_mph</th>\n",
              "      <th>mean_wind_speed_mph</th>\n",
              "      <th>max_gust_speed_mph</th>\n",
              "      <th>precipitation_inches</th>\n",
              "      <th>cloud_cover</th>\n",
              "      <th>events</th>\n",
              "      <th>wind_dir_degrees</th>\n",
              "      <th>zip_code</th>\n",
              "    </tr>\n",
              "  </thead>\n",
              "  <tbody>\n",
              "    <tr>\n",
              "      <th>0</th>\n",
              "      <td>2013-08-29</td>\n",
              "      <td>74.0</td>\n",
              "      <td>68.0</td>\n",
              "      <td>61.0</td>\n",
              "      <td>61.0</td>\n",
              "      <td>58.0</td>\n",
              "      <td>56.0</td>\n",
              "      <td>93.0</td>\n",
              "      <td>75.0</td>\n",
              "      <td>57.0</td>\n",
              "      <td>30.07</td>\n",
              "      <td>30.02</td>\n",
              "      <td>29.97</td>\n",
              "      <td>10.0</td>\n",
              "      <td>10.0</td>\n",
              "      <td>10.0</td>\n",
              "      <td>23.0</td>\n",
              "      <td>11.0</td>\n",
              "      <td>28.0</td>\n",
              "      <td>0</td>\n",
              "      <td>4.0</td>\n",
              "      <td>NaN</td>\n",
              "      <td>286.0</td>\n",
              "      <td>94107</td>\n",
              "    </tr>\n",
              "    <tr>\n",
              "      <th>1</th>\n",
              "      <td>2013-08-30</td>\n",
              "      <td>78.0</td>\n",
              "      <td>69.0</td>\n",
              "      <td>60.0</td>\n",
              "      <td>61.0</td>\n",
              "      <td>58.0</td>\n",
              "      <td>56.0</td>\n",
              "      <td>90.0</td>\n",
              "      <td>70.0</td>\n",
              "      <td>50.0</td>\n",
              "      <td>30.05</td>\n",
              "      <td>30.00</td>\n",
              "      <td>29.93</td>\n",
              "      <td>10.0</td>\n",
              "      <td>10.0</td>\n",
              "      <td>7.0</td>\n",
              "      <td>29.0</td>\n",
              "      <td>13.0</td>\n",
              "      <td>35.0</td>\n",
              "      <td>0</td>\n",
              "      <td>2.0</td>\n",
              "      <td>NaN</td>\n",
              "      <td>291.0</td>\n",
              "      <td>94107</td>\n",
              "    </tr>\n",
              "  </tbody>\n",
              "</table>\n",
              "</div>"
            ],
            "text/plain": [
              "        date  max_temperature_f  ...  wind_dir_degrees  zip_code\n",
              "0 2013-08-29               74.0  ...             286.0     94107\n",
              "1 2013-08-30               78.0  ...             291.0     94107\n",
              "\n",
              "[2 rows x 24 columns]"
            ]
          },
          "metadata": {
            "tags": []
          },
          "execution_count": 21
        }
      ]
    },
    {
      "cell_type": "markdown",
      "metadata": {
        "id": "yuv6cxiQlMgz",
        "colab_type": "text"
      },
      "source": [
        "Merging Trip and Weather tables based on date:\n"
      ]
    },
    {
      "cell_type": "code",
      "metadata": {
        "id": "sppgvo7bjIb6",
        "colab_type": "code",
        "colab": {}
      },
      "source": [
        "df = pd.merge(trip, weather,  how='left', left_on=['zip_code','date'], right_on = ['zip_code','date'])"
      ],
      "execution_count": 22,
      "outputs": []
    },
    {
      "cell_type": "code",
      "metadata": {
        "id": "LXeXy4gojIe0",
        "colab_type": "code",
        "colab": {
          "base_uri": "https://localhost:8080/",
          "height": 36
        },
        "outputId": "51410474-51c1-4add-b1c0-3aac2ee952c9"
      },
      "source": [
        "df.shape"
      ],
      "execution_count": 23,
      "outputs": [
        {
          "output_type": "execute_result",
          "data": {
            "text/plain": [
              "(669959, 34)"
            ]
          },
          "metadata": {
            "tags": []
          },
          "execution_count": 23
        }
      ]
    },
    {
      "cell_type": "markdown",
      "metadata": {
        "id": "n1_u2nHZ16Ce",
        "colab_type": "text"
      },
      "source": [
        "Missing Values:"
      ]
    },
    {
      "cell_type": "code",
      "metadata": {
        "id": "BMXnoT3f15B7",
        "colab_type": "code",
        "colab": {
          "base_uri": "https://localhost:8080/",
          "height": 363
        },
        "outputId": "98e91503-2854-46a8-dc09-e45af29d7c2e"
      },
      "source": [
        "#missing data\n",
        "total = df.isnull().sum().sort_values(ascending=False)\n",
        "percent = (df.isnull().sum()/df.isnull().count()).sort_values(ascending=False)\n",
        "missing_data = pd.concat([total, percent], axis=1, keys=['Total', 'Percent'])\n",
        "missing_data.head(10)"
      ],
      "execution_count": 24,
      "outputs": [
        {
          "output_type": "execute_result",
          "data": {
            "text/html": [
              "<div>\n",
              "<style scoped>\n",
              "    .dataframe tbody tr th:only-of-type {\n",
              "        vertical-align: middle;\n",
              "    }\n",
              "\n",
              "    .dataframe tbody tr th {\n",
              "        vertical-align: top;\n",
              "    }\n",
              "\n",
              "    .dataframe thead th {\n",
              "        text-align: right;\n",
              "    }\n",
              "</style>\n",
              "<table border=\"1\" class=\"dataframe\">\n",
              "  <thead>\n",
              "    <tr style=\"text-align: right;\">\n",
              "      <th></th>\n",
              "      <th>Total</th>\n",
              "      <th>Percent</th>\n",
              "    </tr>\n",
              "  </thead>\n",
              "  <tbody>\n",
              "    <tr>\n",
              "      <th>events</th>\n",
              "      <td>651422</td>\n",
              "      <td>0.972331</td>\n",
              "    </tr>\n",
              "    <tr>\n",
              "      <th>max_gust_speed_mph</th>\n",
              "      <td>580271</td>\n",
              "      <td>0.866129</td>\n",
              "    </tr>\n",
              "    <tr>\n",
              "      <th>mean_dew_point_f</th>\n",
              "      <td>574873</td>\n",
              "      <td>0.858072</td>\n",
              "    </tr>\n",
              "    <tr>\n",
              "      <th>mean_humidity</th>\n",
              "      <td>574873</td>\n",
              "      <td>0.858072</td>\n",
              "    </tr>\n",
              "    <tr>\n",
              "      <th>max_dew_point_f</th>\n",
              "      <td>574873</td>\n",
              "      <td>0.858072</td>\n",
              "    </tr>\n",
              "    <tr>\n",
              "      <th>min_dew_point_f</th>\n",
              "      <td>574873</td>\n",
              "      <td>0.858072</td>\n",
              "    </tr>\n",
              "    <tr>\n",
              "      <th>max_humidity</th>\n",
              "      <td>574873</td>\n",
              "      <td>0.858072</td>\n",
              "    </tr>\n",
              "    <tr>\n",
              "      <th>min_humidity</th>\n",
              "      <td>574873</td>\n",
              "      <td>0.858072</td>\n",
              "    </tr>\n",
              "    <tr>\n",
              "      <th>min_visibility_miles</th>\n",
              "      <td>574745</td>\n",
              "      <td>0.857881</td>\n",
              "    </tr>\n",
              "    <tr>\n",
              "      <th>mean_visibility_miles</th>\n",
              "      <td>574745</td>\n",
              "      <td>0.857881</td>\n",
              "    </tr>\n",
              "  </tbody>\n",
              "</table>\n",
              "</div>"
            ],
            "text/plain": [
              "                        Total   Percent\n",
              "events                 651422  0.972331\n",
              "max_gust_speed_mph     580271  0.866129\n",
              "mean_dew_point_f       574873  0.858072\n",
              "mean_humidity          574873  0.858072\n",
              "max_dew_point_f        574873  0.858072\n",
              "min_dew_point_f        574873  0.858072\n",
              "max_humidity           574873  0.858072\n",
              "min_humidity           574873  0.858072\n",
              "min_visibility_miles   574745  0.857881\n",
              "mean_visibility_miles  574745  0.857881"
            ]
          },
          "metadata": {
            "tags": []
          },
          "execution_count": 24
        }
      ]
    },
    {
      "cell_type": "code",
      "metadata": {
        "id": "cfxk717iI904",
        "colab_type": "code",
        "colab": {}
      },
      "source": [
        "df=df.drop(['events'],axis=1)\n",
        "df=df.drop(['date'],axis=1)"
      ],
      "execution_count": 25,
      "outputs": []
    },
    {
      "cell_type": "markdown",
      "metadata": {
        "id": "EXzpk3TyAMpT",
        "colab_type": "text"
      },
      "source": [
        "Dropping NA Values"
      ]
    },
    {
      "cell_type": "code",
      "metadata": {
        "id": "fy8LtEl615H5",
        "colab_type": "code",
        "colab": {}
      },
      "source": [
        "df=df.dropna()"
      ],
      "execution_count": 26,
      "outputs": []
    },
    {
      "cell_type": "code",
      "metadata": {
        "id": "c6kAKTTL15LQ",
        "colab_type": "code",
        "colab": {
          "base_uri": "https://localhost:8080/",
          "height": 36
        },
        "outputId": "c6673381-3761-405e-ef53-5aa2de9f9a29"
      },
      "source": [
        "df.shape"
      ],
      "execution_count": 27,
      "outputs": [
        {
          "output_type": "execute_result",
          "data": {
            "text/plain": [
              "(89630, 32)"
            ]
          },
          "metadata": {
            "tags": []
          },
          "execution_count": 27
        }
      ]
    },
    {
      "cell_type": "code",
      "metadata": {
        "id": "zmLohK5Z15Og",
        "colab_type": "code",
        "colab": {
          "base_uri": "https://localhost:8080/",
          "height": 634
        },
        "outputId": "eb7853a7-6853-46bd-e5e1-8011557ea00b"
      },
      "source": [
        "df.isnull().sum()"
      ],
      "execution_count": 28,
      "outputs": [
        {
          "output_type": "execute_result",
          "data": {
            "text/plain": [
              "id                                0\n",
              "duration                          0\n",
              "start_date                        0\n",
              "start_station_name                0\n",
              "start_station_id                  0\n",
              "end_date                          0\n",
              "end_station_name                  0\n",
              "end_station_id                    0\n",
              "bike_id                           0\n",
              "subscription_type                 0\n",
              "zip_code                          0\n",
              "max_temperature_f                 0\n",
              "mean_temperature_f                0\n",
              "min_temperature_f                 0\n",
              "max_dew_point_f                   0\n",
              "mean_dew_point_f                  0\n",
              "min_dew_point_f                   0\n",
              "max_humidity                      0\n",
              "mean_humidity                     0\n",
              "min_humidity                      0\n",
              "max_sea_level_pressure_inches     0\n",
              "mean_sea_level_pressure_inches    0\n",
              "min_sea_level_pressure_inches     0\n",
              "max_visibility_miles              0\n",
              "mean_visibility_miles             0\n",
              "min_visibility_miles              0\n",
              "max_wind_Speed_mph                0\n",
              "mean_wind_speed_mph               0\n",
              "max_gust_speed_mph                0\n",
              "precipitation_inches              0\n",
              "cloud_cover                       0\n",
              "wind_dir_degrees                  0\n",
              "dtype: int64"
            ]
          },
          "metadata": {
            "tags": []
          },
          "execution_count": 28
        }
      ]
    },
    {
      "cell_type": "markdown",
      "metadata": {
        "id": "piO6b_zJMfvp",
        "colab_type": "text"
      },
      "source": [
        "Merge new DF with station to get docker count and City"
      ]
    },
    {
      "cell_type": "code",
      "metadata": {
        "id": "kQJhmli2Me6v",
        "colab_type": "code",
        "colab": {}
      },
      "source": [
        "df = pd.merge(df, station,  how='left', left_on=['start_station_id'], right_on = ['start_station_id'])"
      ],
      "execution_count": 29,
      "outputs": []
    },
    {
      "cell_type": "code",
      "metadata": {
        "id": "iBGaPslAM5xF",
        "colab_type": "code",
        "colab": {
          "base_uri": "https://localhost:8080/",
          "height": 36
        },
        "outputId": "0b300fc8-e3fb-4a1d-b62f-0b369a178a07"
      },
      "source": [
        "df.shape"
      ],
      "execution_count": 30,
      "outputs": [
        {
          "output_type": "execute_result",
          "data": {
            "text/plain": [
              "(89630, 39)"
            ]
          },
          "metadata": {
            "tags": []
          },
          "execution_count": 30
        }
      ]
    },
    {
      "cell_type": "code",
      "metadata": {
        "id": "Q0O9S-IwFlnW",
        "colab_type": "code",
        "colab": {}
      },
      "source": [
        "df['date'] = pd.to_datetime(df['start_date']).dt.date\n",
        "df['time'] = pd.to_datetime(df['start_date']).dt.time"
      ],
      "execution_count": 31,
      "outputs": []
    },
    {
      "cell_type": "code",
      "metadata": {
        "id": "i5libDzfF1Nr",
        "colab_type": "code",
        "colab": {
          "base_uri": "https://localhost:8080/",
          "height": 36
        },
        "outputId": "48adece9-6aaa-4f2f-842d-c23e162ba96d"
      },
      "source": [
        "df.shape"
      ],
      "execution_count": 32,
      "outputs": [
        {
          "output_type": "execute_result",
          "data": {
            "text/plain": [
              "(89630, 41)"
            ]
          },
          "metadata": {
            "tags": []
          },
          "execution_count": 32
        }
      ]
    },
    {
      "cell_type": "markdown",
      "metadata": {
        "id": "jBCBt_1oM0YC",
        "colab_type": "text"
      },
      "source": [
        "Converting date into separate columns:"
      ]
    },
    {
      "cell_type": "code",
      "metadata": {
        "id": "KTcCNN8Q15Qx",
        "colab_type": "code",
        "colab": {}
      },
      "source": [
        "add_datepart(df,'date')"
      ],
      "execution_count": 33,
      "outputs": []
    },
    {
      "cell_type": "code",
      "metadata": {
        "id": "B9VZRSNW15YK",
        "colab_type": "code",
        "colab": {}
      },
      "source": [
        "df['hour'] = df.start_date.dt.hour\n",
        "df['minute'] = df.start_date.dt.minute"
      ],
      "execution_count": 34,
      "outputs": []
    },
    {
      "cell_type": "code",
      "metadata": {
        "id": "X6cq0t9SXKGz",
        "colab_type": "code",
        "colab": {
          "base_uri": "https://localhost:8080/",
          "height": 1000
        },
        "outputId": "57f425ae-2356-459c-aab3-0c6892d52a63"
      },
      "source": [
        "df.head().T"
      ],
      "execution_count": 35,
      "outputs": [
        {
          "output_type": "execute_result",
          "data": {
            "text/html": [
              "<div>\n",
              "<style scoped>\n",
              "    .dataframe tbody tr th:only-of-type {\n",
              "        vertical-align: middle;\n",
              "    }\n",
              "\n",
              "    .dataframe tbody tr th {\n",
              "        vertical-align: top;\n",
              "    }\n",
              "\n",
              "    .dataframe thead th {\n",
              "        text-align: right;\n",
              "    }\n",
              "</style>\n",
              "<table border=\"1\" class=\"dataframe\">\n",
              "  <thead>\n",
              "    <tr style=\"text-align: right;\">\n",
              "      <th></th>\n",
              "      <th>0</th>\n",
              "      <th>1</th>\n",
              "      <th>2</th>\n",
              "      <th>3</th>\n",
              "      <th>4</th>\n",
              "    </tr>\n",
              "  </thead>\n",
              "  <tbody>\n",
              "    <tr>\n",
              "      <th>id_x</th>\n",
              "      <td>4965</td>\n",
              "      <td>4917</td>\n",
              "      <td>4721</td>\n",
              "      <td>4812</td>\n",
              "      <td>4705</td>\n",
              "    </tr>\n",
              "    <tr>\n",
              "      <th>duration</th>\n",
              "      <td>129</td>\n",
              "      <td>169</td>\n",
              "      <td>184</td>\n",
              "      <td>186</td>\n",
              "      <td>193</td>\n",
              "    </tr>\n",
              "    <tr>\n",
              "      <th>start_date</th>\n",
              "      <td>2013-08-29 19:32:00</td>\n",
              "      <td>2013-08-29 18:45:00</td>\n",
              "      <td>2013-08-29 16:27:00</td>\n",
              "      <td>2013-08-29 17:30:00</td>\n",
              "      <td>2013-08-29 16:15:00</td>\n",
              "    </tr>\n",
              "    <tr>\n",
              "      <th>start_station_name</th>\n",
              "      <td>Mountain View Caltrain Station</td>\n",
              "      <td>Redwood City Medical Center</td>\n",
              "      <td>Market at 10th</td>\n",
              "      <td>2nd at Folsom</td>\n",
              "      <td>Golden Gate at Polk</td>\n",
              "    </tr>\n",
              "    <tr>\n",
              "      <th>start_station_id</th>\n",
              "      <td>28</td>\n",
              "      <td>26</td>\n",
              "      <td>67</td>\n",
              "      <td>62</td>\n",
              "      <td>59</td>\n",
              "    </tr>\n",
              "    <tr>\n",
              "      <th>end_date</th>\n",
              "      <td>8/29/2013 19:35</td>\n",
              "      <td>8/29/2013 18:48</td>\n",
              "      <td>8/29/2013 16:30</td>\n",
              "      <td>8/29/2013 17:33</td>\n",
              "      <td>8/29/2013 16:18</td>\n",
              "    </tr>\n",
              "    <tr>\n",
              "      <th>end_station_name</th>\n",
              "      <td>Mountain View Caltrain Station</td>\n",
              "      <td>Broadway at Main</td>\n",
              "      <td>South Van Ness at Market</td>\n",
              "      <td>2nd at Folsom</td>\n",
              "      <td>San Francisco City Hall</td>\n",
              "    </tr>\n",
              "    <tr>\n",
              "      <th>end_station_id</th>\n",
              "      <td>28</td>\n",
              "      <td>25</td>\n",
              "      <td>66</td>\n",
              "      <td>62</td>\n",
              "      <td>58</td>\n",
              "    </tr>\n",
              "    <tr>\n",
              "      <th>bike_id</th>\n",
              "      <td>140</td>\n",
              "      <td>229</td>\n",
              "      <td>416</td>\n",
              "      <td>409</td>\n",
              "      <td>519</td>\n",
              "    </tr>\n",
              "    <tr>\n",
              "      <th>subscription_type</th>\n",
              "      <td>Subscriber</td>\n",
              "      <td>Subscriber</td>\n",
              "      <td>Subscriber</td>\n",
              "      <td>Subscriber</td>\n",
              "      <td>Subscriber</td>\n",
              "    </tr>\n",
              "    <tr>\n",
              "      <th>zip_code</th>\n",
              "      <td>94041</td>\n",
              "      <td>94041</td>\n",
              "      <td>94107</td>\n",
              "      <td>94107</td>\n",
              "      <td>94107</td>\n",
              "    </tr>\n",
              "    <tr>\n",
              "      <th>max_temperature_f</th>\n",
              "      <td>80</td>\n",
              "      <td>80</td>\n",
              "      <td>74</td>\n",
              "      <td>74</td>\n",
              "      <td>74</td>\n",
              "    </tr>\n",
              "    <tr>\n",
              "      <th>mean_temperature_f</th>\n",
              "      <td>70</td>\n",
              "      <td>70</td>\n",
              "      <td>68</td>\n",
              "      <td>68</td>\n",
              "      <td>68</td>\n",
              "    </tr>\n",
              "    <tr>\n",
              "      <th>min_temperature_f</th>\n",
              "      <td>64</td>\n",
              "      <td>64</td>\n",
              "      <td>61</td>\n",
              "      <td>61</td>\n",
              "      <td>61</td>\n",
              "    </tr>\n",
              "    <tr>\n",
              "      <th>max_dew_point_f</th>\n",
              "      <td>65</td>\n",
              "      <td>65</td>\n",
              "      <td>61</td>\n",
              "      <td>61</td>\n",
              "      <td>61</td>\n",
              "    </tr>\n",
              "    <tr>\n",
              "      <th>mean_dew_point_f</th>\n",
              "      <td>61</td>\n",
              "      <td>61</td>\n",
              "      <td>58</td>\n",
              "      <td>58</td>\n",
              "      <td>58</td>\n",
              "    </tr>\n",
              "    <tr>\n",
              "      <th>min_dew_point_f</th>\n",
              "      <td>58</td>\n",
              "      <td>58</td>\n",
              "      <td>56</td>\n",
              "      <td>56</td>\n",
              "      <td>56</td>\n",
              "    </tr>\n",
              "    <tr>\n",
              "      <th>max_humidity</th>\n",
              "      <td>83</td>\n",
              "      <td>83</td>\n",
              "      <td>93</td>\n",
              "      <td>93</td>\n",
              "      <td>93</td>\n",
              "    </tr>\n",
              "    <tr>\n",
              "      <th>mean_humidity</th>\n",
              "      <td>72</td>\n",
              "      <td>72</td>\n",
              "      <td>75</td>\n",
              "      <td>75</td>\n",
              "      <td>75</td>\n",
              "    </tr>\n",
              "    <tr>\n",
              "      <th>min_humidity</th>\n",
              "      <td>55</td>\n",
              "      <td>55</td>\n",
              "      <td>57</td>\n",
              "      <td>57</td>\n",
              "      <td>57</td>\n",
              "    </tr>\n",
              "    <tr>\n",
              "      <th>max_sea_level_pressure_inches</th>\n",
              "      <td>30.04</td>\n",
              "      <td>30.04</td>\n",
              "      <td>30.07</td>\n",
              "      <td>30.07</td>\n",
              "      <td>30.07</td>\n",
              "    </tr>\n",
              "    <tr>\n",
              "      <th>mean_sea_level_pressure_inches</th>\n",
              "      <td>30.04</td>\n",
              "      <td>30.04</td>\n",
              "      <td>30.02</td>\n",
              "      <td>30.02</td>\n",
              "      <td>30.02</td>\n",
              "    </tr>\n",
              "    <tr>\n",
              "      <th>min_sea_level_pressure_inches</th>\n",
              "      <td>29.94</td>\n",
              "      <td>29.94</td>\n",
              "      <td>29.97</td>\n",
              "      <td>29.97</td>\n",
              "      <td>29.97</td>\n",
              "    </tr>\n",
              "    <tr>\n",
              "      <th>max_visibility_miles</th>\n",
              "      <td>10</td>\n",
              "      <td>10</td>\n",
              "      <td>10</td>\n",
              "      <td>10</td>\n",
              "      <td>10</td>\n",
              "    </tr>\n",
              "    <tr>\n",
              "      <th>mean_visibility_miles</th>\n",
              "      <td>10</td>\n",
              "      <td>10</td>\n",
              "      <td>10</td>\n",
              "      <td>10</td>\n",
              "      <td>10</td>\n",
              "    </tr>\n",
              "    <tr>\n",
              "      <th>min_visibility_miles</th>\n",
              "      <td>10</td>\n",
              "      <td>10</td>\n",
              "      <td>10</td>\n",
              "      <td>10</td>\n",
              "      <td>10</td>\n",
              "    </tr>\n",
              "    <tr>\n",
              "      <th>max_wind_Speed_mph</th>\n",
              "      <td>16</td>\n",
              "      <td>16</td>\n",
              "      <td>23</td>\n",
              "      <td>23</td>\n",
              "      <td>23</td>\n",
              "    </tr>\n",
              "    <tr>\n",
              "      <th>mean_wind_speed_mph</th>\n",
              "      <td>5</td>\n",
              "      <td>5</td>\n",
              "      <td>11</td>\n",
              "      <td>11</td>\n",
              "      <td>11</td>\n",
              "    </tr>\n",
              "    <tr>\n",
              "      <th>max_gust_speed_mph</th>\n",
              "      <td>16</td>\n",
              "      <td>16</td>\n",
              "      <td>28</td>\n",
              "      <td>28</td>\n",
              "      <td>28</td>\n",
              "    </tr>\n",
              "    <tr>\n",
              "      <th>precipitation_inches</th>\n",
              "      <td>0</td>\n",
              "      <td>0</td>\n",
              "      <td>0</td>\n",
              "      <td>0</td>\n",
              "      <td>0</td>\n",
              "    </tr>\n",
              "    <tr>\n",
              "      <th>cloud_cover</th>\n",
              "      <td>4</td>\n",
              "      <td>4</td>\n",
              "      <td>4</td>\n",
              "      <td>4</td>\n",
              "      <td>4</td>\n",
              "    </tr>\n",
              "    <tr>\n",
              "      <th>wind_dir_degrees</th>\n",
              "      <td>355</td>\n",
              "      <td>355</td>\n",
              "      <td>286</td>\n",
              "      <td>286</td>\n",
              "      <td>286</td>\n",
              "    </tr>\n",
              "    <tr>\n",
              "      <th>id_y</th>\n",
              "      <td>28</td>\n",
              "      <td>26</td>\n",
              "      <td>67</td>\n",
              "      <td>62</td>\n",
              "      <td>59</td>\n",
              "    </tr>\n",
              "    <tr>\n",
              "      <th>name</th>\n",
              "      <td>Mountain View Caltrain Station</td>\n",
              "      <td>Redwood City Medical Center</td>\n",
              "      <td>Market at 10th</td>\n",
              "      <td>2nd at Folsom</td>\n",
              "      <td>Golden Gate at Polk</td>\n",
              "    </tr>\n",
              "    <tr>\n",
              "      <th>lat</th>\n",
              "      <td>37.3944</td>\n",
              "      <td>37.4877</td>\n",
              "      <td>37.7766</td>\n",
              "      <td>37.7853</td>\n",
              "      <td>37.7813</td>\n",
              "    </tr>\n",
              "    <tr>\n",
              "      <th>long</th>\n",
              "      <td>-122.077</td>\n",
              "      <td>-122.223</td>\n",
              "      <td>-122.417</td>\n",
              "      <td>-122.396</td>\n",
              "      <td>-122.419</td>\n",
              "    </tr>\n",
              "    <tr>\n",
              "      <th>dock_count</th>\n",
              "      <td>23</td>\n",
              "      <td>15</td>\n",
              "      <td>27</td>\n",
              "      <td>19</td>\n",
              "      <td>23</td>\n",
              "    </tr>\n",
              "    <tr>\n",
              "      <th>city</th>\n",
              "      <td>Mountain View</td>\n",
              "      <td>Redwood City</td>\n",
              "      <td>San Francisco</td>\n",
              "      <td>San Francisco</td>\n",
              "      <td>San Francisco</td>\n",
              "    </tr>\n",
              "    <tr>\n",
              "      <th>installation_date</th>\n",
              "      <td>8/15/2013</td>\n",
              "      <td>8/12/2013</td>\n",
              "      <td>8/23/2013</td>\n",
              "      <td>8/22/2013</td>\n",
              "      <td>8/21/2013</td>\n",
              "    </tr>\n",
              "    <tr>\n",
              "      <th>time</th>\n",
              "      <td>19:32:00</td>\n",
              "      <td>18:45:00</td>\n",
              "      <td>16:27:00</td>\n",
              "      <td>17:30:00</td>\n",
              "      <td>16:15:00</td>\n",
              "    </tr>\n",
              "    <tr>\n",
              "      <th>Year</th>\n",
              "      <td>2013</td>\n",
              "      <td>2013</td>\n",
              "      <td>2013</td>\n",
              "      <td>2013</td>\n",
              "      <td>2013</td>\n",
              "    </tr>\n",
              "    <tr>\n",
              "      <th>Month</th>\n",
              "      <td>8</td>\n",
              "      <td>8</td>\n",
              "      <td>8</td>\n",
              "      <td>8</td>\n",
              "      <td>8</td>\n",
              "    </tr>\n",
              "    <tr>\n",
              "      <th>Week</th>\n",
              "      <td>35</td>\n",
              "      <td>35</td>\n",
              "      <td>35</td>\n",
              "      <td>35</td>\n",
              "      <td>35</td>\n",
              "    </tr>\n",
              "    <tr>\n",
              "      <th>Day</th>\n",
              "      <td>29</td>\n",
              "      <td>29</td>\n",
              "      <td>29</td>\n",
              "      <td>29</td>\n",
              "      <td>29</td>\n",
              "    </tr>\n",
              "    <tr>\n",
              "      <th>Dayofweek</th>\n",
              "      <td>3</td>\n",
              "      <td>3</td>\n",
              "      <td>3</td>\n",
              "      <td>3</td>\n",
              "      <td>3</td>\n",
              "    </tr>\n",
              "    <tr>\n",
              "      <th>Dayofyear</th>\n",
              "      <td>241</td>\n",
              "      <td>241</td>\n",
              "      <td>241</td>\n",
              "      <td>241</td>\n",
              "      <td>241</td>\n",
              "    </tr>\n",
              "    <tr>\n",
              "      <th>Is_month_end</th>\n",
              "      <td>False</td>\n",
              "      <td>False</td>\n",
              "      <td>False</td>\n",
              "      <td>False</td>\n",
              "      <td>False</td>\n",
              "    </tr>\n",
              "    <tr>\n",
              "      <th>Is_month_start</th>\n",
              "      <td>False</td>\n",
              "      <td>False</td>\n",
              "      <td>False</td>\n",
              "      <td>False</td>\n",
              "      <td>False</td>\n",
              "    </tr>\n",
              "    <tr>\n",
              "      <th>Is_quarter_end</th>\n",
              "      <td>False</td>\n",
              "      <td>False</td>\n",
              "      <td>False</td>\n",
              "      <td>False</td>\n",
              "      <td>False</td>\n",
              "    </tr>\n",
              "    <tr>\n",
              "      <th>Is_quarter_start</th>\n",
              "      <td>False</td>\n",
              "      <td>False</td>\n",
              "      <td>False</td>\n",
              "      <td>False</td>\n",
              "      <td>False</td>\n",
              "    </tr>\n",
              "    <tr>\n",
              "      <th>Is_year_end</th>\n",
              "      <td>False</td>\n",
              "      <td>False</td>\n",
              "      <td>False</td>\n",
              "      <td>False</td>\n",
              "      <td>False</td>\n",
              "    </tr>\n",
              "    <tr>\n",
              "      <th>Is_year_start</th>\n",
              "      <td>False</td>\n",
              "      <td>False</td>\n",
              "      <td>False</td>\n",
              "      <td>False</td>\n",
              "      <td>False</td>\n",
              "    </tr>\n",
              "    <tr>\n",
              "      <th>Elapsed</th>\n",
              "      <td>1377734400</td>\n",
              "      <td>1377734400</td>\n",
              "      <td>1377734400</td>\n",
              "      <td>1377734400</td>\n",
              "      <td>1377734400</td>\n",
              "    </tr>\n",
              "    <tr>\n",
              "      <th>hour</th>\n",
              "      <td>19</td>\n",
              "      <td>18</td>\n",
              "      <td>16</td>\n",
              "      <td>17</td>\n",
              "      <td>16</td>\n",
              "    </tr>\n",
              "    <tr>\n",
              "      <th>minute</th>\n",
              "      <td>32</td>\n",
              "      <td>45</td>\n",
              "      <td>27</td>\n",
              "      <td>30</td>\n",
              "      <td>15</td>\n",
              "    </tr>\n",
              "  </tbody>\n",
              "</table>\n",
              "</div>"
            ],
            "text/plain": [
              "                                                             0  ...                        4\n",
              "id_x                                                      4965  ...                     4705\n",
              "duration                                                   129  ...                      193\n",
              "start_date                                 2013-08-29 19:32:00  ...      2013-08-29 16:15:00\n",
              "start_station_name              Mountain View Caltrain Station  ...      Golden Gate at Polk\n",
              "start_station_id                                            28  ...                       59\n",
              "end_date                                       8/29/2013 19:35  ...          8/29/2013 16:18\n",
              "end_station_name                Mountain View Caltrain Station  ...  San Francisco City Hall\n",
              "end_station_id                                              28  ...                       58\n",
              "bike_id                                                    140  ...                      519\n",
              "subscription_type                                   Subscriber  ...               Subscriber\n",
              "zip_code                                                 94041  ...                    94107\n",
              "max_temperature_f                                           80  ...                       74\n",
              "mean_temperature_f                                          70  ...                       68\n",
              "min_temperature_f                                           64  ...                       61\n",
              "max_dew_point_f                                             65  ...                       61\n",
              "mean_dew_point_f                                            61  ...                       58\n",
              "min_dew_point_f                                             58  ...                       56\n",
              "max_humidity                                                83  ...                       93\n",
              "mean_humidity                                               72  ...                       75\n",
              "min_humidity                                                55  ...                       57\n",
              "max_sea_level_pressure_inches                            30.04  ...                    30.07\n",
              "mean_sea_level_pressure_inches                           30.04  ...                    30.02\n",
              "min_sea_level_pressure_inches                            29.94  ...                    29.97\n",
              "max_visibility_miles                                        10  ...                       10\n",
              "mean_visibility_miles                                       10  ...                       10\n",
              "min_visibility_miles                                        10  ...                       10\n",
              "max_wind_Speed_mph                                          16  ...                       23\n",
              "mean_wind_speed_mph                                          5  ...                       11\n",
              "max_gust_speed_mph                                          16  ...                       28\n",
              "precipitation_inches                                         0  ...                        0\n",
              "cloud_cover                                                  4  ...                        4\n",
              "wind_dir_degrees                                           355  ...                      286\n",
              "id_y                                                        28  ...                       59\n",
              "name                            Mountain View Caltrain Station  ...      Golden Gate at Polk\n",
              "lat                                                    37.3944  ...                  37.7813\n",
              "long                                                  -122.077  ...                 -122.419\n",
              "dock_count                                                  23  ...                       23\n",
              "city                                             Mountain View  ...            San Francisco\n",
              "installation_date                                    8/15/2013  ...                8/21/2013\n",
              "time                                                  19:32:00  ...                 16:15:00\n",
              "Year                                                      2013  ...                     2013\n",
              "Month                                                        8  ...                        8\n",
              "Week                                                        35  ...                       35\n",
              "Day                                                         29  ...                       29\n",
              "Dayofweek                                                    3  ...                        3\n",
              "Dayofyear                                                  241  ...                      241\n",
              "Is_month_end                                             False  ...                    False\n",
              "Is_month_start                                           False  ...                    False\n",
              "Is_quarter_end                                           False  ...                    False\n",
              "Is_quarter_start                                         False  ...                    False\n",
              "Is_year_end                                              False  ...                    False\n",
              "Is_year_start                                            False  ...                    False\n",
              "Elapsed                                             1377734400  ...               1377734400\n",
              "hour                                                        19  ...                       16\n",
              "minute                                                      32  ...                       15\n",
              "\n",
              "[55 rows x 5 columns]"
            ]
          },
          "metadata": {
            "tags": []
          },
          "execution_count": 35
        }
      ]
    },
    {
      "cell_type": "code",
      "metadata": {
        "id": "2zl6M0rX15US",
        "colab_type": "code",
        "colab": {
          "base_uri": "https://localhost:8080/",
          "height": 297
        },
        "outputId": "373c47bb-ea95-4338-99fb-0feabf26eb31"
      },
      "source": [
        "df.columns"
      ],
      "execution_count": 36,
      "outputs": [
        {
          "output_type": "execute_result",
          "data": {
            "text/plain": [
              "Index(['id_x', 'duration', 'start_date', 'start_station_name',\n",
              "       'start_station_id', 'end_date', 'end_station_name', 'end_station_id',\n",
              "       'bike_id', 'subscription_type', 'zip_code', 'max_temperature_f',\n",
              "       'mean_temperature_f', 'min_temperature_f', 'max_dew_point_f',\n",
              "       'mean_dew_point_f', 'min_dew_point_f', 'max_humidity', 'mean_humidity',\n",
              "       'min_humidity', 'max_sea_level_pressure_inches',\n",
              "       'mean_sea_level_pressure_inches', 'min_sea_level_pressure_inches',\n",
              "       'max_visibility_miles', 'mean_visibility_miles', 'min_visibility_miles',\n",
              "       'max_wind_Speed_mph', 'mean_wind_speed_mph', 'max_gust_speed_mph',\n",
              "       'precipitation_inches', 'cloud_cover', 'wind_dir_degrees', 'id_y',\n",
              "       'name', 'lat', 'long', 'dock_count', 'city', 'installation_date',\n",
              "       'time', 'Year', 'Month', 'Week', 'Day', 'Dayofweek', 'Dayofyear',\n",
              "       'Is_month_end', 'Is_month_start', 'Is_quarter_end', 'Is_quarter_start',\n",
              "       'Is_year_end', 'Is_year_start', 'Elapsed', 'hour', 'minute'],\n",
              "      dtype='object')"
            ]
          },
          "metadata": {
            "tags": []
          },
          "execution_count": 36
        }
      ]
    },
    {
      "cell_type": "markdown",
      "metadata": {
        "id": "oVa0xV8tW69N",
        "colab_type": "text"
      },
      "source": [
        "Droping unnecessary features:"
      ]
    },
    {
      "cell_type": "code",
      "metadata": {
        "id": "m5FwDAFxW6Hj",
        "colab_type": "code",
        "colab": {}
      },
      "source": [
        "df=df.drop(['id_x', 'start_date', 'start_station_name',\n",
        "       'start_station_id', 'end_date', 'end_station_name', 'end_station_id',\n",
        "       'bike_id', 'zip_code', 'time','id_y','Elapsed','precipitation_inches',\n",
        "       'name', 'lat', 'long', 'installation_date'],axis=1)"
      ],
      "execution_count": 37,
      "outputs": []
    },
    {
      "cell_type": "markdown",
      "metadata": {
        "id": "h4PCDEE0ZZBa",
        "colab_type": "text"
      },
      "source": [
        "# Data Analysis:"
      ]
    },
    {
      "cell_type": "markdown",
      "metadata": {
        "id": "f5OOMmcVXacm",
        "colab_type": "text"
      },
      "source": [
        "Outliers"
      ]
    },
    {
      "cell_type": "code",
      "metadata": {
        "id": "f5qv8SKhXcwN",
        "colab_type": "code",
        "colab": {
          "base_uri": "https://localhost:8080/",
          "height": 555
        },
        "outputId": "5dd62379-ccf0-4f71-8004-f7fd318620e5"
      },
      "source": [
        "# Find outliers\n",
        "sorted_duration = df.sort_values('duration',ascending=False)\n",
        "print(\"The number of the 0,1% top values of Duration is\",\n",
        "      len(sorted_duration.head(len(sorted_duration)//1000)),\"and they have duration higher than\",\n",
        "      sorted_duration.duration[19], \"mins\")\n",
        "\n",
        "# boxplot appliances\n",
        "plt.figure(figsize=(12,8))\n",
        "sns.boxplot(x=\"duration\", data=df)\n",
        "plt.xlabel('Duration in minutes', fontsize=12)\n",
        "plt.title(\"Bike Share Duration Distribution\", fontsize=15)"
      ],
      "execution_count": 38,
      "outputs": [
        {
          "output_type": "stream",
          "text": [
            "The number of the 0,1% top values of Duration is 89 and they have duration higher than 579 mins\n"
          ],
          "name": "stdout"
        },
        {
          "output_type": "execute_result",
          "data": {
            "text/plain": [
              "Text(0.5, 1.0, 'Bike Share Duration Distribution')"
            ]
          },
          "metadata": {
            "tags": []
          },
          "execution_count": 38
        },
        {
          "output_type": "display_data",
          "data": {
            "image/png": "[encoded data removed]",
            "text/plain": [
              "<Figure size 864x576 with 1 Axes>"
            ]
          },
          "metadata": {
            "tags": [],
            "needs_background": "light"
          }
        }
      ]
    },
    {
      "cell_type": "code",
      "metadata": {
        "id": "BP1rEEKHYQKq",
        "colab_type": "code",
        "colab": {}
      },
      "source": [
        "# Outliers removal\n",
        "df = df.drop(df[(df.duration>579)|(df.duration<0)].index)"
      ],
      "execution_count": 39,
      "outputs": []
    },
    {
      "cell_type": "code",
      "metadata": {
        "id": "4J-aKVvEXA1C",
        "colab_type": "code",
        "colab": {
          "base_uri": "https://localhost:8080/",
          "height": 36
        },
        "outputId": "c9bbe729-d338-4f62-85d7-64b2795f098c"
      },
      "source": [
        "df.shape"
      ],
      "execution_count": 40,
      "outputs": [
        {
          "output_type": "execute_result",
          "data": {
            "text/plain": [
              "(60552, 38)"
            ]
          },
          "metadata": {
            "tags": []
          },
          "execution_count": 40
        }
      ]
    },
    {
      "cell_type": "markdown",
      "metadata": {
        "id": "H2DShwXRZvYY",
        "colab_type": "text"
      },
      "source": [
        "Distribution of Duration:"
      ]
    },
    {
      "cell_type": "code",
      "metadata": {
        "id": "XWYYQLGQXA3q",
        "colab_type": "code",
        "colab": {
          "base_uri": "https://localhost:8080/",
          "height": 265
        },
        "outputId": "bf2311aa-fe61-40fc-af51-877abd039d70"
      },
      "source": [
        "df['duration'].hist(bins = 20 ) ;"
      ],
      "execution_count": 41,
      "outputs": [
        {
          "output_type": "display_data",
          "data": {
            "image/png": "[encoded data removed]",
            "text/plain": [
              "<Figure size 432x288 with 1 Axes>"
            ]
          },
          "metadata": {
            "tags": [],
            "needs_background": "light"
          }
        }
      ]
    },
    {
      "cell_type": "code",
      "metadata": {
        "id": "41EsOZ9kat0U",
        "colab_type": "code",
        "colab": {
          "base_uri": "https://localhost:8080/",
          "height": 185
        },
        "outputId": "895ef960-4579-4746-e899-224dde4e83e3"
      },
      "source": [
        "df.duration.describe()"
      ],
      "execution_count": 42,
      "outputs": [
        {
          "output_type": "execute_result",
          "data": {
            "text/plain": [
              "count    60552.000000\n",
              "mean       346.804565\n",
              "std        124.281730\n",
              "min         60.000000\n",
              "25%        241.000000\n",
              "50%        339.000000\n",
              "75%        452.000000\n",
              "max        579.000000\n",
              "Name: duration, dtype: float64"
            ]
          },
          "metadata": {
            "tags": []
          },
          "execution_count": 42
        }
      ]
    },
    {
      "cell_type": "markdown",
      "metadata": {
        "id": "EpvNP5JNOn6v",
        "colab_type": "text"
      },
      "source": [
        "Summary:"
      ]
    },
    {
      "cell_type": "code",
      "metadata": {
        "id": "HZCK6kWPOnUK",
        "colab_type": "code",
        "colab": {}
      },
      "source": [
        "def display_all(df):\n",
        "    with pd.option_context(\"display.max_rows\", 1000, \"display.max_columns\", 1000): \n",
        "        display(df)"
      ],
      "execution_count": 43,
      "outputs": []
    },
    {
      "cell_type": "code",
      "metadata": {
        "id": "2K7MS3fZOs1W",
        "colab_type": "code",
        "colab": {
          "base_uri": "https://localhost:8080/",
          "height": 1000
        },
        "outputId": "1ed4aa42-6a18-4c5d-8d62-43d973619297"
      },
      "source": [
        "display_all(df.describe(include='all').T)"
      ],
      "execution_count": 44,
      "outputs": [
        {
          "output_type": "display_data",
          "data": {
            "text/html": [
              "<div>\n",
              "<style scoped>\n",
              "    .dataframe tbody tr th:only-of-type {\n",
              "        vertical-align: middle;\n",
              "    }\n",
              "\n",
              "    .dataframe tbody tr th {\n",
              "        vertical-align: top;\n",
              "    }\n",
              "\n",
              "    .dataframe thead th {\n",
              "        text-align: right;\n",
              "    }\n",
              "</style>\n",
              "<table border=\"1\" class=\"dataframe\">\n",
              "  <thead>\n",
              "    <tr style=\"text-align: right;\">\n",
              "      <th></th>\n",
              "      <th>count</th>\n",
              "      <th>unique</th>\n",
              "      <th>top</th>\n",
              "      <th>freq</th>\n",
              "      <th>mean</th>\n",
              "      <th>std</th>\n",
              "      <th>min</th>\n",
              "      <th>25%</th>\n",
              "      <th>50%</th>\n",
              "      <th>75%</th>\n",
              "      <th>max</th>\n",
              "    </tr>\n",
              "  </thead>\n",
              "  <tbody>\n",
              "    <tr>\n",
              "      <th>duration</th>\n",
              "      <td>60552</td>\n",
              "      <td>NaN</td>\n",
              "      <td>NaN</td>\n",
              "      <td>NaN</td>\n",
              "      <td>346.805</td>\n",
              "      <td>124.282</td>\n",
              "      <td>60</td>\n",
              "      <td>241</td>\n",
              "      <td>339</td>\n",
              "      <td>452</td>\n",
              "      <td>579</td>\n",
              "    </tr>\n",
              "    <tr>\n",
              "      <th>subscription_type</th>\n",
              "      <td>60552</td>\n",
              "      <td>2</td>\n",
              "      <td>Subscriber</td>\n",
              "      <td>59790</td>\n",
              "      <td>NaN</td>\n",
              "      <td>NaN</td>\n",
              "      <td>NaN</td>\n",
              "      <td>NaN</td>\n",
              "      <td>NaN</td>\n",
              "      <td>NaN</td>\n",
              "      <td>NaN</td>\n",
              "    </tr>\n",
              "    <tr>\n",
              "      <th>max_temperature_f</th>\n",
              "      <td>60552</td>\n",
              "      <td>NaN</td>\n",
              "      <td>NaN</td>\n",
              "      <td>NaN</td>\n",
              "      <td>68.9616</td>\n",
              "      <td>7.38527</td>\n",
              "      <td>46</td>\n",
              "      <td>64</td>\n",
              "      <td>68</td>\n",
              "      <td>73</td>\n",
              "      <td>102</td>\n",
              "    </tr>\n",
              "    <tr>\n",
              "      <th>mean_temperature_f</th>\n",
              "      <td>60552</td>\n",
              "      <td>NaN</td>\n",
              "      <td>NaN</td>\n",
              "      <td>NaN</td>\n",
              "      <td>60.5802</td>\n",
              "      <td>6.23403</td>\n",
              "      <td>38</td>\n",
              "      <td>56</td>\n",
              "      <td>60</td>\n",
              "      <td>66</td>\n",
              "      <td>82</td>\n",
              "    </tr>\n",
              "    <tr>\n",
              "      <th>min_temperature_f</th>\n",
              "      <td>60552</td>\n",
              "      <td>NaN</td>\n",
              "      <td>NaN</td>\n",
              "      <td>NaN</td>\n",
              "      <td>51.7886</td>\n",
              "      <td>6.51232</td>\n",
              "      <td>25</td>\n",
              "      <td>47</td>\n",
              "      <td>52</td>\n",
              "      <td>57</td>\n",
              "      <td>68</td>\n",
              "    </tr>\n",
              "    <tr>\n",
              "      <th>max_dew_point_f</th>\n",
              "      <td>60552</td>\n",
              "      <td>NaN</td>\n",
              "      <td>NaN</td>\n",
              "      <td>NaN</td>\n",
              "      <td>52.5802</td>\n",
              "      <td>5.66265</td>\n",
              "      <td>20</td>\n",
              "      <td>49</td>\n",
              "      <td>53</td>\n",
              "      <td>57</td>\n",
              "      <td>66</td>\n",
              "    </tr>\n",
              "    <tr>\n",
              "      <th>mean_dew_point_f</th>\n",
              "      <td>60552</td>\n",
              "      <td>NaN</td>\n",
              "      <td>NaN</td>\n",
              "      <td>NaN</td>\n",
              "      <td>48.92</td>\n",
              "      <td>6.7533</td>\n",
              "      <td>13</td>\n",
              "      <td>46</td>\n",
              "      <td>49</td>\n",
              "      <td>54</td>\n",
              "      <td>64</td>\n",
              "    </tr>\n",
              "    <tr>\n",
              "      <th>min_dew_point_f</th>\n",
              "      <td>60552</td>\n",
              "      <td>NaN</td>\n",
              "      <td>NaN</td>\n",
              "      <td>NaN</td>\n",
              "      <td>44.8737</td>\n",
              "      <td>8.45752</td>\n",
              "      <td>2</td>\n",
              "      <td>41</td>\n",
              "      <td>46</td>\n",
              "      <td>52</td>\n",
              "      <td>63</td>\n",
              "    </tr>\n",
              "    <tr>\n",
              "      <th>max_humidity</th>\n",
              "      <td>60552</td>\n",
              "      <td>NaN</td>\n",
              "      <td>NaN</td>\n",
              "      <td>NaN</td>\n",
              "      <td>85.9344</td>\n",
              "      <td>8.58617</td>\n",
              "      <td>30</td>\n",
              "      <td>83</td>\n",
              "      <td>86</td>\n",
              "      <td>93</td>\n",
              "      <td>100</td>\n",
              "    </tr>\n",
              "    <tr>\n",
              "      <th>mean_humidity</th>\n",
              "      <td>60552</td>\n",
              "      <td>NaN</td>\n",
              "      <td>NaN</td>\n",
              "      <td>NaN</td>\n",
              "      <td>68.3957</td>\n",
              "      <td>10.1626</td>\n",
              "      <td>25</td>\n",
              "      <td>64</td>\n",
              "      <td>69</td>\n",
              "      <td>74</td>\n",
              "      <td>95</td>\n",
              "    </tr>\n",
              "    <tr>\n",
              "      <th>min_humidity</th>\n",
              "      <td>60552</td>\n",
              "      <td>NaN</td>\n",
              "      <td>NaN</td>\n",
              "      <td>NaN</td>\n",
              "      <td>50.1463</td>\n",
              "      <td>14.1411</td>\n",
              "      <td>9</td>\n",
              "      <td>42</td>\n",
              "      <td>52</td>\n",
              "      <td>60</td>\n",
              "      <td>86</td>\n",
              "    </tr>\n",
              "    <tr>\n",
              "      <th>max_sea_level_pressure_inches</th>\n",
              "      <td>60552</td>\n",
              "      <td>NaN</td>\n",
              "      <td>NaN</td>\n",
              "      <td>NaN</td>\n",
              "      <td>30.0772</td>\n",
              "      <td>0.133156</td>\n",
              "      <td>29.5</td>\n",
              "      <td>29.98</td>\n",
              "      <td>30.06</td>\n",
              "      <td>30.17</td>\n",
              "      <td>30.65</td>\n",
              "    </tr>\n",
              "    <tr>\n",
              "      <th>mean_sea_level_pressure_inches</th>\n",
              "      <td>60552</td>\n",
              "      <td>NaN</td>\n",
              "      <td>NaN</td>\n",
              "      <td>NaN</td>\n",
              "      <td>30.0234</td>\n",
              "      <td>0.128999</td>\n",
              "      <td>29.43</td>\n",
              "      <td>29.93</td>\n",
              "      <td>30.01</td>\n",
              "      <td>30.12</td>\n",
              "      <td>30.41</td>\n",
              "    </tr>\n",
              "    <tr>\n",
              "      <th>min_sea_level_pressure_inches</th>\n",
              "      <td>60552</td>\n",
              "      <td>NaN</td>\n",
              "      <td>NaN</td>\n",
              "      <td>NaN</td>\n",
              "      <td>29.968</td>\n",
              "      <td>0.128897</td>\n",
              "      <td>28.98</td>\n",
              "      <td>29.88</td>\n",
              "      <td>29.96</td>\n",
              "      <td>30.06</td>\n",
              "      <td>30.37</td>\n",
              "    </tr>\n",
              "    <tr>\n",
              "      <th>max_visibility_miles</th>\n",
              "      <td>60552</td>\n",
              "      <td>NaN</td>\n",
              "      <td>NaN</td>\n",
              "      <td>NaN</td>\n",
              "      <td>9.99912</td>\n",
              "      <td>0.421604</td>\n",
              "      <td>6</td>\n",
              "      <td>10</td>\n",
              "      <td>10</td>\n",
              "      <td>10</td>\n",
              "      <td>20</td>\n",
              "    </tr>\n",
              "    <tr>\n",
              "      <th>mean_visibility_miles</th>\n",
              "      <td>60552</td>\n",
              "      <td>NaN</td>\n",
              "      <td>NaN</td>\n",
              "      <td>NaN</td>\n",
              "      <td>9.54124</td>\n",
              "      <td>1.07259</td>\n",
              "      <td>4</td>\n",
              "      <td>10</td>\n",
              "      <td>10</td>\n",
              "      <td>10</td>\n",
              "      <td>19</td>\n",
              "    </tr>\n",
              "    <tr>\n",
              "      <th>min_visibility_miles</th>\n",
              "      <td>60552</td>\n",
              "      <td>NaN</td>\n",
              "      <td>NaN</td>\n",
              "      <td>NaN</td>\n",
              "      <td>7.90194</td>\n",
              "      <td>2.85574</td>\n",
              "      <td>0</td>\n",
              "      <td>7</td>\n",
              "      <td>10</td>\n",
              "      <td>10</td>\n",
              "      <td>15</td>\n",
              "    </tr>\n",
              "    <tr>\n",
              "      <th>max_wind_Speed_mph</th>\n",
              "      <td>60552</td>\n",
              "      <td>NaN</td>\n",
              "      <td>NaN</td>\n",
              "      <td>NaN</td>\n",
              "      <td>18.2875</td>\n",
              "      <td>5.83433</td>\n",
              "      <td>0</td>\n",
              "      <td>15</td>\n",
              "      <td>18</td>\n",
              "      <td>21</td>\n",
              "      <td>120</td>\n",
              "    </tr>\n",
              "    <tr>\n",
              "      <th>mean_wind_speed_mph</th>\n",
              "      <td>60552</td>\n",
              "      <td>NaN</td>\n",
              "      <td>NaN</td>\n",
              "      <td>NaN</td>\n",
              "      <td>7.58285</td>\n",
              "      <td>3.57751</td>\n",
              "      <td>0</td>\n",
              "      <td>5</td>\n",
              "      <td>8</td>\n",
              "      <td>10</td>\n",
              "      <td>23</td>\n",
              "    </tr>\n",
              "    <tr>\n",
              "      <th>max_gust_speed_mph</th>\n",
              "      <td>60552</td>\n",
              "      <td>NaN</td>\n",
              "      <td>NaN</td>\n",
              "      <td>NaN</td>\n",
              "      <td>23.3702</td>\n",
              "      <td>8.42057</td>\n",
              "      <td>6</td>\n",
              "      <td>18</td>\n",
              "      <td>23</td>\n",
              "      <td>26</td>\n",
              "      <td>114</td>\n",
              "    </tr>\n",
              "    <tr>\n",
              "      <th>cloud_cover</th>\n",
              "      <td>60552</td>\n",
              "      <td>NaN</td>\n",
              "      <td>NaN</td>\n",
              "      <td>NaN</td>\n",
              "      <td>3.64896</td>\n",
              "      <td>2.2976</td>\n",
              "      <td>0</td>\n",
              "      <td>2</td>\n",
              "      <td>4</td>\n",
              "      <td>5</td>\n",
              "      <td>8</td>\n",
              "    </tr>\n",
              "    <tr>\n",
              "      <th>wind_dir_degrees</th>\n",
              "      <td>60552</td>\n",
              "      <td>NaN</td>\n",
              "      <td>NaN</td>\n",
              "      <td>NaN</td>\n",
              "      <td>257.425</td>\n",
              "      <td>74.0429</td>\n",
              "      <td>0</td>\n",
              "      <td>251</td>\n",
              "      <td>277</td>\n",
              "      <td>299</td>\n",
              "      <td>2772</td>\n",
              "    </tr>\n",
              "    <tr>\n",
              "      <th>dock_count</th>\n",
              "      <td>60552</td>\n",
              "      <td>NaN</td>\n",
              "      <td>NaN</td>\n",
              "      <td>NaN</td>\n",
              "      <td>19.5063</td>\n",
              "      <td>4.29128</td>\n",
              "      <td>11</td>\n",
              "      <td>15</td>\n",
              "      <td>19</td>\n",
              "      <td>23</td>\n",
              "      <td>27</td>\n",
              "    </tr>\n",
              "    <tr>\n",
              "      <th>city</th>\n",
              "      <td>60552</td>\n",
              "      <td>5</td>\n",
              "      <td>San Francisco</td>\n",
              "      <td>52416</td>\n",
              "      <td>NaN</td>\n",
              "      <td>NaN</td>\n",
              "      <td>NaN</td>\n",
              "      <td>NaN</td>\n",
              "      <td>NaN</td>\n",
              "      <td>NaN</td>\n",
              "      <td>NaN</td>\n",
              "    </tr>\n",
              "    <tr>\n",
              "      <th>Year</th>\n",
              "      <td>60552</td>\n",
              "      <td>NaN</td>\n",
              "      <td>NaN</td>\n",
              "      <td>NaN</td>\n",
              "      <td>2014.25</td>\n",
              "      <td>0.681845</td>\n",
              "      <td>2013</td>\n",
              "      <td>2014</td>\n",
              "      <td>2014</td>\n",
              "      <td>2015</td>\n",
              "      <td>2015</td>\n",
              "    </tr>\n",
              "    <tr>\n",
              "      <th>Month</th>\n",
              "      <td>60552</td>\n",
              "      <td>NaN</td>\n",
              "      <td>NaN</td>\n",
              "      <td>NaN</td>\n",
              "      <td>6.38344</td>\n",
              "      <td>3.47268</td>\n",
              "      <td>1</td>\n",
              "      <td>3</td>\n",
              "      <td>6</td>\n",
              "      <td>10</td>\n",
              "      <td>12</td>\n",
              "    </tr>\n",
              "    <tr>\n",
              "      <th>Week</th>\n",
              "      <td>60552</td>\n",
              "      <td>NaN</td>\n",
              "      <td>NaN</td>\n",
              "      <td>NaN</td>\n",
              "      <td>26.1703</td>\n",
              "      <td>15.0098</td>\n",
              "      <td>1</td>\n",
              "      <td>13</td>\n",
              "      <td>26</td>\n",
              "      <td>40</td>\n",
              "      <td>52</td>\n",
              "    </tr>\n",
              "    <tr>\n",
              "      <th>Day</th>\n",
              "      <td>60552</td>\n",
              "      <td>NaN</td>\n",
              "      <td>NaN</td>\n",
              "      <td>NaN</td>\n",
              "      <td>15.7585</td>\n",
              "      <td>8.57801</td>\n",
              "      <td>1</td>\n",
              "      <td>9</td>\n",
              "      <td>16</td>\n",
              "      <td>23</td>\n",
              "      <td>31</td>\n",
              "    </tr>\n",
              "    <tr>\n",
              "      <th>Dayofweek</th>\n",
              "      <td>60552</td>\n",
              "      <td>NaN</td>\n",
              "      <td>NaN</td>\n",
              "      <td>NaN</td>\n",
              "      <td>2.35834</td>\n",
              "      <td>1.72623</td>\n",
              "      <td>0</td>\n",
              "      <td>1</td>\n",
              "      <td>2</td>\n",
              "      <td>4</td>\n",
              "      <td>6</td>\n",
              "    </tr>\n",
              "    <tr>\n",
              "      <th>Dayofyear</th>\n",
              "      <td>60552</td>\n",
              "      <td>NaN</td>\n",
              "      <td>NaN</td>\n",
              "      <td>NaN</td>\n",
              "      <td>178.72</td>\n",
              "      <td>105.531</td>\n",
              "      <td>1</td>\n",
              "      <td>85</td>\n",
              "      <td>176</td>\n",
              "      <td>274</td>\n",
              "      <td>365</td>\n",
              "    </tr>\n",
              "    <tr>\n",
              "      <th>Is_month_end</th>\n",
              "      <td>60552</td>\n",
              "      <td>2</td>\n",
              "      <td>False</td>\n",
              "      <td>58830</td>\n",
              "      <td>NaN</td>\n",
              "      <td>NaN</td>\n",
              "      <td>NaN</td>\n",
              "      <td>NaN</td>\n",
              "      <td>NaN</td>\n",
              "      <td>NaN</td>\n",
              "      <td>NaN</td>\n",
              "    </tr>\n",
              "    <tr>\n",
              "      <th>Is_month_start</th>\n",
              "      <td>60552</td>\n",
              "      <td>2</td>\n",
              "      <td>False</td>\n",
              "      <td>58922</td>\n",
              "      <td>NaN</td>\n",
              "      <td>NaN</td>\n",
              "      <td>NaN</td>\n",
              "      <td>NaN</td>\n",
              "      <td>NaN</td>\n",
              "      <td>NaN</td>\n",
              "      <td>NaN</td>\n",
              "    </tr>\n",
              "    <tr>\n",
              "      <th>Is_quarter_end</th>\n",
              "      <td>60552</td>\n",
              "      <td>2</td>\n",
              "      <td>False</td>\n",
              "      <td>59817</td>\n",
              "      <td>NaN</td>\n",
              "      <td>NaN</td>\n",
              "      <td>NaN</td>\n",
              "      <td>NaN</td>\n",
              "      <td>NaN</td>\n",
              "      <td>NaN</td>\n",
              "      <td>NaN</td>\n",
              "    </tr>\n",
              "    <tr>\n",
              "      <th>Is_quarter_start</th>\n",
              "      <td>60552</td>\n",
              "      <td>2</td>\n",
              "      <td>False</td>\n",
              "      <td>59899</td>\n",
              "      <td>NaN</td>\n",
              "      <td>NaN</td>\n",
              "      <td>NaN</td>\n",
              "      <td>NaN</td>\n",
              "      <td>NaN</td>\n",
              "      <td>NaN</td>\n",
              "      <td>NaN</td>\n",
              "    </tr>\n",
              "    <tr>\n",
              "      <th>Is_year_end</th>\n",
              "      <td>60552</td>\n",
              "      <td>2</td>\n",
              "      <td>False</td>\n",
              "      <td>60468</td>\n",
              "      <td>NaN</td>\n",
              "      <td>NaN</td>\n",
              "      <td>NaN</td>\n",
              "      <td>NaN</td>\n",
              "      <td>NaN</td>\n",
              "      <td>NaN</td>\n",
              "      <td>NaN</td>\n",
              "    </tr>\n",
              "    <tr>\n",
              "      <th>Is_year_start</th>\n",
              "      <td>60552</td>\n",
              "      <td>2</td>\n",
              "      <td>False</td>\n",
              "      <td>60531</td>\n",
              "      <td>NaN</td>\n",
              "      <td>NaN</td>\n",
              "      <td>NaN</td>\n",
              "      <td>NaN</td>\n",
              "      <td>NaN</td>\n",
              "      <td>NaN</td>\n",
              "      <td>NaN</td>\n",
              "    </tr>\n",
              "    <tr>\n",
              "      <th>hour</th>\n",
              "      <td>60552</td>\n",
              "      <td>NaN</td>\n",
              "      <td>NaN</td>\n",
              "      <td>NaN</td>\n",
              "      <td>13.2804</td>\n",
              "      <td>4.91124</td>\n",
              "      <td>0</td>\n",
              "      <td>9</td>\n",
              "      <td>13</td>\n",
              "      <td>18</td>\n",
              "      <td>23</td>\n",
              "    </tr>\n",
              "    <tr>\n",
              "      <th>minute</th>\n",
              "      <td>60552</td>\n",
              "      <td>NaN</td>\n",
              "      <td>NaN</td>\n",
              "      <td>NaN</td>\n",
              "      <td>29.6726</td>\n",
              "      <td>17.7983</td>\n",
              "      <td>0</td>\n",
              "      <td>14</td>\n",
              "      <td>30</td>\n",
              "      <td>46</td>\n",
              "      <td>59</td>\n",
              "    </tr>\n",
              "  </tbody>\n",
              "</table>\n",
              "</div>"
            ],
            "text/plain": [
              "                                count unique            top   freq     mean  \\\n",
              "duration                        60552    NaN            NaN    NaN  346.805   \n",
              "subscription_type               60552      2     Subscriber  59790      NaN   \n",
              "max_temperature_f               60552    NaN            NaN    NaN  68.9616   \n",
              "mean_temperature_f              60552    NaN            NaN    NaN  60.5802   \n",
              "min_temperature_f               60552    NaN            NaN    NaN  51.7886   \n",
              "max_dew_point_f                 60552    NaN            NaN    NaN  52.5802   \n",
              "mean_dew_point_f                60552    NaN            NaN    NaN    48.92   \n",
              "min_dew_point_f                 60552    NaN            NaN    NaN  44.8737   \n",
              "max_humidity                    60552    NaN            NaN    NaN  85.9344   \n",
              "mean_humidity                   60552    NaN            NaN    NaN  68.3957   \n",
              "min_humidity                    60552    NaN            NaN    NaN  50.1463   \n",
              "max_sea_level_pressure_inches   60552    NaN            NaN    NaN  30.0772   \n",
              "mean_sea_level_pressure_inches  60552    NaN            NaN    NaN  30.0234   \n",
              "min_sea_level_pressure_inches   60552    NaN            NaN    NaN   29.968   \n",
              "max_visibility_miles            60552    NaN            NaN    NaN  9.99912   \n",
              "mean_visibility_miles           60552    NaN            NaN    NaN  9.54124   \n",
              "min_visibility_miles            60552    NaN            NaN    NaN  7.90194   \n",
              "max_wind_Speed_mph              60552    NaN            NaN    NaN  18.2875   \n",
              "mean_wind_speed_mph             60552    NaN            NaN    NaN  7.58285   \n",
              "max_gust_speed_mph              60552    NaN            NaN    NaN  23.3702   \n",
              "cloud_cover                     60552    NaN            NaN    NaN  3.64896   \n",
              "wind_dir_degrees                60552    NaN            NaN    NaN  257.425   \n",
              "dock_count                      60552    NaN            NaN    NaN  19.5063   \n",
              "city                            60552      5  San Francisco  52416      NaN   \n",
              "Year                            60552    NaN            NaN    NaN  2014.25   \n",
              "Month                           60552    NaN            NaN    NaN  6.38344   \n",
              "Week                            60552    NaN            NaN    NaN  26.1703   \n",
              "Day                             60552    NaN            NaN    NaN  15.7585   \n",
              "Dayofweek                       60552    NaN            NaN    NaN  2.35834   \n",
              "Dayofyear                       60552    NaN            NaN    NaN   178.72   \n",
              "Is_month_end                    60552      2          False  58830      NaN   \n",
              "Is_month_start                  60552      2          False  58922      NaN   \n",
              "Is_quarter_end                  60552      2          False  59817      NaN   \n",
              "Is_quarter_start                60552      2          False  59899      NaN   \n",
              "Is_year_end                     60552      2          False  60468      NaN   \n",
              "Is_year_start                   60552      2          False  60531      NaN   \n",
              "hour                            60552    NaN            NaN    NaN  13.2804   \n",
              "minute                          60552    NaN            NaN    NaN  29.6726   \n",
              "\n",
              "                                     std    min    25%    50%    75%    max  \n",
              "duration                         124.282     60    241    339    452    579  \n",
              "subscription_type                    NaN    NaN    NaN    NaN    NaN    NaN  \n",
              "max_temperature_f                7.38527     46     64     68     73    102  \n",
              "mean_temperature_f               6.23403     38     56     60     66     82  \n",
              "min_temperature_f                6.51232     25     47     52     57     68  \n",
              "max_dew_point_f                  5.66265     20     49     53     57     66  \n",
              "mean_dew_point_f                  6.7533     13     46     49     54     64  \n",
              "min_dew_point_f                  8.45752      2     41     46     52     63  \n",
              "max_humidity                     8.58617     30     83     86     93    100  \n",
              "mean_humidity                    10.1626     25     64     69     74     95  \n",
              "min_humidity                     14.1411      9     42     52     60     86  \n",
              "max_sea_level_pressure_inches   0.133156   29.5  29.98  30.06  30.17  30.65  \n",
              "mean_sea_level_pressure_inches  0.128999  29.43  29.93  30.01  30.12  30.41  \n",
              "min_sea_level_pressure_inches   0.128897  28.98  29.88  29.96  30.06  30.37  \n",
              "max_visibility_miles            0.421604      6     10     10     10     20  \n",
              "mean_visibility_miles            1.07259      4     10     10     10     19  \n",
              "min_visibility_miles             2.85574      0      7     10     10     15  \n",
              "max_wind_Speed_mph               5.83433      0     15     18     21    120  \n",
              "mean_wind_speed_mph              3.57751      0      5      8     10     23  \n",
              "max_gust_speed_mph               8.42057      6     18     23     26    114  \n",
              "cloud_cover                       2.2976      0      2      4      5      8  \n",
              "wind_dir_degrees                 74.0429      0    251    277    299   2772  \n",
              "dock_count                       4.29128     11     15     19     23     27  \n",
              "city                                 NaN    NaN    NaN    NaN    NaN    NaN  \n",
              "Year                            0.681845   2013   2014   2014   2015   2015  \n",
              "Month                            3.47268      1      3      6     10     12  \n",
              "Week                             15.0098      1     13     26     40     52  \n",
              "Day                              8.57801      1      9     16     23     31  \n",
              "Dayofweek                        1.72623      0      1      2      4      6  \n",
              "Dayofyear                        105.531      1     85    176    274    365  \n",
              "Is_month_end                         NaN    NaN    NaN    NaN    NaN    NaN  \n",
              "Is_month_start                       NaN    NaN    NaN    NaN    NaN    NaN  \n",
              "Is_quarter_end                       NaN    NaN    NaN    NaN    NaN    NaN  \n",
              "Is_quarter_start                     NaN    NaN    NaN    NaN    NaN    NaN  \n",
              "Is_year_end                          NaN    NaN    NaN    NaN    NaN    NaN  \n",
              "Is_year_start                        NaN    NaN    NaN    NaN    NaN    NaN  \n",
              "hour                             4.91124      0      9     13     18     23  \n",
              "minute                           17.7983      0     14     30     46     59  "
            ]
          },
          "metadata": {
            "tags": []
          }
        }
      ]
    },
    {
      "cell_type": "code",
      "metadata": {
        "id": "5r7L1sG3Os6Q",
        "colab_type": "code",
        "colab": {
          "base_uri": "https://localhost:8080/",
          "height": 858
        },
        "outputId": "8125f8e4-27b6-4814-d4e9-f2c9118758f1"
      },
      "source": [
        "df.info()"
      ],
      "execution_count": 45,
      "outputs": [
        {
          "output_type": "stream",
          "text": [
            "<class 'pandas.core.frame.DataFrame'>\n",
            "Int64Index: 60552 entries, 0 to 89629\n",
            "Data columns (total 38 columns):\n",
            " #   Column                          Non-Null Count  Dtype  \n",
            "---  ------                          --------------  -----  \n",
            " 0   duration                        60552 non-null  int64  \n",
            " 1   subscription_type               60552 non-null  object \n",
            " 2   max_temperature_f               60552 non-null  float64\n",
            " 3   mean_temperature_f              60552 non-null  float64\n",
            " 4   min_temperature_f               60552 non-null  float64\n",
            " 5   max_dew_point_f                 60552 non-null  float64\n",
            " 6   mean_dew_point_f                60552 non-null  float64\n",
            " 7   min_dew_point_f                 60552 non-null  float64\n",
            " 8   max_humidity                    60552 non-null  float64\n",
            " 9   mean_humidity                   60552 non-null  float64\n",
            " 10  min_humidity                    60552 non-null  float64\n",
            " 11  max_sea_level_pressure_inches   60552 non-null  float64\n",
            " 12  mean_sea_level_pressure_inches  60552 non-null  float64\n",
            " 13  min_sea_level_pressure_inches   60552 non-null  float64\n",
            " 14  max_visibility_miles            60552 non-null  float64\n",
            " 15  mean_visibility_miles           60552 non-null  float64\n",
            " 16  min_visibility_miles            60552 non-null  float64\n",
            " 17  max_wind_Speed_mph              60552 non-null  float64\n",
            " 18  mean_wind_speed_mph             60552 non-null  float64\n",
            " 19  max_gust_speed_mph              60552 non-null  float64\n",
            " 20  cloud_cover                     60552 non-null  float64\n",
            " 21  wind_dir_degrees                60552 non-null  float64\n",
            " 22  dock_count                      60552 non-null  int64  \n",
            " 23  city                            60552 non-null  object \n",
            " 24  Year                            60552 non-null  int64  \n",
            " 25  Month                           60552 non-null  int64  \n",
            " 26  Week                            60552 non-null  int64  \n",
            " 27  Day                             60552 non-null  int64  \n",
            " 28  Dayofweek                       60552 non-null  int64  \n",
            " 29  Dayofyear                       60552 non-null  int64  \n",
            " 30  Is_month_end                    60552 non-null  bool   \n",
            " 31  Is_month_start                  60552 non-null  bool   \n",
            " 32  Is_quarter_end                  60552 non-null  bool   \n",
            " 33  Is_quarter_start                60552 non-null  bool   \n",
            " 34  Is_year_end                     60552 non-null  bool   \n",
            " 35  Is_year_start                   60552 non-null  bool   \n",
            " 36  hour                            60552 non-null  int64  \n",
            " 37  minute                          60552 non-null  int64  \n",
            "dtypes: bool(6), float64(20), int64(10), object(2)\n",
            "memory usage: 15.6+ MB\n"
          ],
          "name": "stdout"
        }
      ]
    },
    {
      "cell_type": "code",
      "metadata": {
        "id": "ZnGs6FTQOtGH",
        "colab_type": "code",
        "colab": {
          "base_uri": "https://localhost:8080/",
          "height": 413
        },
        "outputId": "ae1d4e14-5399-47c5-bd1f-8f39ee3d5cdb"
      },
      "source": [
        "class_count1 = df['subscription_type'].value_counts()\n",
        "sns.set(style=\"darkgrid\")\n",
        "sns.barplot(class_count1.index, class_count1.values, alpha=0.9)\n",
        "plt.title('Frequency Distribution of subscription type')\n",
        "plt.ylabel('Number of Occurrences', fontsize=12)\n",
        "plt.xlabel('Subscription Type', fontsize=12)\n",
        "plt.show()\n",
        "print(df['subscription_type'].value_counts())\n",
        "df.subscription_type.value_counts(normalize=True)"
      ],
      "execution_count": 46,
      "outputs": [
        {
          "output_type": "display_data",
          "data": {
            "image/png": "[encoded data removed]",
            "text/plain": [
              "<Figure size 432x288 with 1 Axes>"
            ]
          },
          "metadata": {
            "tags": []
          }
        },
        {
          "output_type": "stream",
          "text": [
            "Subscriber    59790\n",
            "Customer        762\n",
            "Name: subscription_type, dtype: int64\n"
          ],
          "name": "stdout"
        },
        {
          "output_type": "execute_result",
          "data": {
            "text/plain": [
              "Subscriber    0.987416\n",
              "Customer      0.012584\n",
              "Name: subscription_type, dtype: float64"
            ]
          },
          "metadata": {
            "tags": []
          },
          "execution_count": 46
        }
      ]
    },
    {
      "cell_type": "markdown",
      "metadata": {
        "id": "RcEHCvhyTzQc",
        "colab_type": "text"
      },
      "source": [
        "Categorical and Boolean features:\n"
      ]
    },
    {
      "cell_type": "code",
      "metadata": {
        "id": "ckxzZwDNOtEH",
        "colab_type": "code",
        "colab": {}
      },
      "source": [
        "categorical = df.select_dtypes(include=['object', 'bool']).columns"
      ],
      "execution_count": 47,
      "outputs": []
    },
    {
      "cell_type": "code",
      "metadata": {
        "id": "AEpuRatcURQb",
        "colab_type": "code",
        "colab": {
          "base_uri": "https://localhost:8080/",
          "height": 73
        },
        "outputId": "59129763-0507-45eb-e318-7c279e1f093a"
      },
      "source": [
        "categorical"
      ],
      "execution_count": 48,
      "outputs": [
        {
          "output_type": "execute_result",
          "data": {
            "text/plain": [
              "Index(['subscription_type', 'city', 'Is_month_end', 'Is_month_start',\n",
              "       'Is_quarter_end', 'Is_quarter_start', 'Is_year_end', 'Is_year_start'],\n",
              "      dtype='object')"
            ]
          },
          "metadata": {
            "tags": []
          },
          "execution_count": 48
        }
      ]
    },
    {
      "cell_type": "code",
      "metadata": {
        "id": "kyKk9UY4OtCP",
        "colab_type": "code",
        "colab": {
          "base_uri": "https://localhost:8080/",
          "height": 166
        },
        "outputId": "368ff796-a86a-46eb-e1e7-58d76656a95b"
      },
      "source": [
        "for col in categorical:\n",
        "    \n",
        "    print(np.unique(df[col]))\n",
        "# transform the categorical columns\n",
        "df = pd.get_dummies(df, columns=categorical)"
      ],
      "execution_count": 49,
      "outputs": [
        {
          "output_type": "stream",
          "text": [
            "['Customer' 'Subscriber']\n",
            "['Mountain View' 'Palo Alto' 'Redwood City' 'San Francisco' 'San Jose']\n",
            "[False  True]\n",
            "[False  True]\n",
            "[False  True]\n",
            "[False  True]\n",
            "[False  True]\n",
            "[False  True]\n"
          ],
          "name": "stdout"
        }
      ]
    },
    {
      "cell_type": "code",
      "metadata": {
        "id": "qMqtn6nDT8Ux",
        "colab_type": "code",
        "colab": {
          "base_uri": "https://localhost:8080/",
          "height": 36
        },
        "outputId": "38c9c22d-46fd-48d3-cf70-b88576c6010d"
      },
      "source": [
        "df.shape"
      ],
      "execution_count": 50,
      "outputs": [
        {
          "output_type": "execute_result",
          "data": {
            "text/plain": [
              "(60552, 49)"
            ]
          },
          "metadata": {
            "tags": []
          },
          "execution_count": 50
        }
      ]
    },
    {
      "cell_type": "code",
      "metadata": {
        "id": "8XjraWqizPgJ",
        "colab_type": "code",
        "colab": {}
      },
      "source": [
        "df.to_csv(\"bike_share.csv\",index = False, sep=',')"
      ],
      "execution_count": 77,
      "outputs": []
    },
    {
      "cell_type": "markdown",
      "metadata": {
        "id": "AmouVltRYM5Q",
        "colab_type": "text"
      },
      "source": [
        "# Feature Preprocessing"
      ]
    },
    {
      "cell_type": "code",
      "metadata": {
        "id": "J-vCSSOaT8Y_",
        "colab_type": "code",
        "colab": {
          "base_uri": "https://localhost:8080/",
          "height": 36
        },
        "outputId": "f4dafd33-a341-4e3f-c273-6abc5e7f2ba3"
      },
      "source": [
        "#target=['duration']\n",
        "y=df[['duration']]\n",
        "y.shape"
      ],
      "execution_count": 51,
      "outputs": [
        {
          "output_type": "execute_result",
          "data": {
            "text/plain": [
              "(60552, 1)"
            ]
          },
          "metadata": {
            "tags": []
          },
          "execution_count": 51
        }
      ]
    },
    {
      "cell_type": "code",
      "metadata": {
        "id": "mWwFWaBdT8hD",
        "colab_type": "code",
        "colab": {
          "base_uri": "https://localhost:8080/",
          "height": 36
        },
        "outputId": "3279fc29-13ce-4610-fe7c-0278f13838d5"
      },
      "source": [
        "x=df.drop(['duration'],axis=1)\n",
        "x.shape"
      ],
      "execution_count": 52,
      "outputs": [
        {
          "output_type": "execute_result",
          "data": {
            "text/plain": [
              "(60552, 48)"
            ]
          },
          "metadata": {
            "tags": []
          },
          "execution_count": 52
        }
      ]
    },
    {
      "cell_type": "code",
      "metadata": {
        "id": "mVbuo64FYeqs",
        "colab_type": "code",
        "colab": {}
      },
      "source": [
        "import random\n",
        "random.seed(49)"
      ],
      "execution_count": 53,
      "outputs": []
    },
    {
      "cell_type": "code",
      "metadata": {
        "id": "oQPaVuqXZPhq",
        "colab_type": "code",
        "colab": {}
      },
      "source": [
        "# Train/Test Split\n",
        "from sklearn.model_selection import train_test_split\n",
        "X_train, X_test, y_train, y_test = train_test_split(x, y, test_size=0.2, random_state=42)"
      ],
      "execution_count": 54,
      "outputs": []
    },
    {
      "cell_type": "code",
      "metadata": {
        "id": "wH9WR2JLZPk7",
        "colab_type": "code",
        "colab": {
          "base_uri": "https://localhost:8080/",
          "height": 36
        },
        "outputId": "195916b3-75c5-4ed5-9619-3fe4417be153"
      },
      "source": [
        "from sklearn.preprocessing import StandardScaler\n",
        "\n",
        "#scaler = StandardScaler() \n",
        "\n",
        "from sklearn.preprocessing import MinMaxScaler\n",
        "scaler = MinMaxScaler()  \n",
        "# To scale data \n",
        "X_train=scaler.fit_transform(X_train)\n",
        "X_test=scaler.transform(X_test)\n",
        "y_train1 = scaler.fit_transform(y_train)\n",
        "y_test1=scaler.transform(y_test)\n",
        "print(\"Feature space holds %d observations and %d features\" % X_train.shape)"
      ],
      "execution_count": 55,
      "outputs": [
        {
          "output_type": "stream",
          "text": [
            "Feature space holds 48441 observations and 48 features\n"
          ],
          "name": "stdout"
        }
      ]
    },
    {
      "cell_type": "code",
      "metadata": {
        "id": "z99b8QfMnCxg",
        "colab_type": "code",
        "colab": {
          "base_uri": "https://localhost:8080/",
          "height": 36
        },
        "outputId": "45218746-71bc-4199-9e3c-32e3e5e599ca"
      },
      "source": [
        "X_train.shape,X_train.shape,y_train.shape,y_test.shape"
      ],
      "execution_count": 56,
      "outputs": [
        {
          "output_type": "execute_result",
          "data": {
            "text/plain": [
              "((48441, 48), (48441, 48), (48441, 1), (12111, 1))"
            ]
          },
          "metadata": {
            "tags": []
          },
          "execution_count": 56
        }
      ]
    },
    {
      "cell_type": "markdown",
      "metadata": {
        "id": "22hKFIw2l2uh",
        "colab_type": "text"
      },
      "source": [
        "# Cost Function\n"
      ]
    },
    {
      "cell_type": "code",
      "metadata": {
        "id": "vjJaLvI6l6A9",
        "colab_type": "code",
        "colab": {}
      },
      "source": [
        "def costfunction(x,y, theta):\n",
        "    m = len(x)\n",
        "    #costvalue = np.sum(((dataFile.dot(coeffMatrix.T)) - dataTarget) ** 2) / (2 * dataLength);\n",
        "    return np.sum(((x.dot(theta.T)) - y) ** 2) / (2 * m)"
      ],
      "execution_count": 57,
      "outputs": []
    },
    {
      "cell_type": "markdown",
      "metadata": {
        "id": "C01_4mNtaOgw",
        "colab_type": "text"
      },
      "source": [
        "# Gradient Desent Function"
      ]
    },
    {
      "cell_type": "code",
      "metadata": {
        "id": "f7dmmePYZPn6",
        "colab_type": "code",
        "colab": {}
      },
      "source": [
        "def Gradient_Descent(x,y,theta,alpha,iterations):\n",
        "  m=len(y)\n",
        "  cost=[0]*iterations\n",
        "  for i in range(iterations):\n",
        "    loss=x.dot(theta.T)-y                 #predicted - Actual\n",
        "    grad=x.T.dot(loss)/m                  #loss*x\n",
        "    theta=theta-(alpha*grad.T)            #theta=old_theta-alpha*grad  \n",
        "    costvalue=costfunction(x,y, theta)    \n",
        "    cost[i]=costvalue\n",
        "  #print('Model Coefficients: ')\n",
        "  #print(theta)\n",
        "  return theta, cost"
      ],
      "execution_count": 58,
      "outputs": []
    },
    {
      "cell_type": "markdown",
      "metadata": {
        "id": "dTwy2ZHNdb-A",
        "colab_type": "text"
      },
      "source": [
        "# Linear Regression Function:"
      ]
    },
    {
      "cell_type": "code",
      "metadata": {
        "id": "9VbpDi6uYeuB",
        "colab_type": "code",
        "colab": {}
      },
      "source": [
        "def model(x, y):\n",
        "    alpha=[0.0065];\n",
        "    m=len(x)\n",
        "    for learning_rate in alpha:\n",
        "        theta =np.zeros((1, x.shape[1]))\n",
        "        theta, cost = Gradient_Descent(x, y, theta, learning_rate, 20000);\n",
        "    return theta;"
      ],
      "execution_count": 59,
      "outputs": []
    },
    {
      "cell_type": "code",
      "metadata": {
        "id": "z3QoXFvEdfXg",
        "colab_type": "code",
        "colab": {}
      },
      "source": [
        "m=model(X_train,y_train1)"
      ],
      "execution_count": 60,
      "outputs": []
    },
    {
      "cell_type": "code",
      "metadata": {
        "id": "Im0QO58r9-Kj",
        "colab_type": "code",
        "colab": {
          "base_uri": "https://localhost:8080/",
          "height": 110
        },
        "outputId": "72b4e346-ba73-49dc-874d-b65f32d96a68"
      },
      "source": [
        "m"
      ],
      "execution_count": 61,
      "outputs": [
        {
          "output_type": "execute_result",
          "data": {
            "text/plain": [
              "array([[ 0.02123,  0.01885,  0.02436,  0.00125,  0.00251,  0.01454,  0.01877, -0.00101, -0.00916,  0.00211,\n",
              "         0.00533, -0.00043,  0.01973,  0.00962,  0.01235,  0.00919,  0.01208,  0.02372, -0.01515,  0.00674,\n",
              "         0.10571, -0.01554,  0.01366, -0.01414,  0.00719, -0.00681,  0.01283,  0.01219,  0.0004 ,  0.0943 ,\n",
              "        -0.01236, -0.02785, -0.0413 , -0.02976,  0.11574,  0.0651 ,  0.04123,  0.0407 ,  0.04388,  0.03806,\n",
              "         0.04975,  0.03218,  0.04605,  0.03588,  0.06288,  0.01906,  0.07811,  0.00383]])"
            ]
          },
          "metadata": {
            "tags": []
          },
          "execution_count": 61
        }
      ]
    },
    {
      "cell_type": "code",
      "metadata": {
        "id": "v7zhsoe64pbj",
        "colab_type": "code",
        "colab": {}
      },
      "source": [
        "#Predict\n",
        "\n",
        "def predict(testData, theta):\n",
        "    y_pred = testData.dot(theta.T);\n",
        "    return y_pred;"
      ],
      "execution_count": 62,
      "outputs": []
    },
    {
      "cell_type": "code",
      "metadata": {
        "id": "bu-QRC5n4pfG",
        "colab_type": "code",
        "colab": {}
      },
      "source": [
        "def calculateRMSE(testTarget, y_pred):\n",
        "    modelRMSE =np.sqrt(np.sum((testTarget - y_pred) ** 2) / len(testTarget))\n",
        "    return modelRMSE;"
      ],
      "execution_count": 63,
      "outputs": []
    },
    {
      "cell_type": "code",
      "metadata": {
        "id": "i8_CY2tU4phh",
        "colab_type": "code",
        "colab": {}
      },
      "source": [
        "y_pred=predict(X_test,m)"
      ],
      "execution_count": 64,
      "outputs": []
    },
    {
      "cell_type": "code",
      "metadata": {
        "id": "gqLMbVWlPFfA",
        "colab_type": "code",
        "colab": {}
      },
      "source": [
        "y_pred_org=scaler.inverse_transform(y_pred)"
      ],
      "execution_count": 65,
      "outputs": []
    },
    {
      "cell_type": "code",
      "metadata": {
        "id": "rlGQkn2i4pkS",
        "colab_type": "code",
        "colab": {
          "base_uri": "https://localhost:8080/",
          "height": 54
        },
        "outputId": "2dc6a575-3b5c-4da3-a94b-cabbc21101d7"
      },
      "source": [
        "rmse=calculateRMSE(y_test,y_pred_org)\n",
        "rmse"
      ],
      "execution_count": 66,
      "outputs": [
        {
          "output_type": "execute_result",
          "data": {
            "text/plain": [
              "duration    121.404696\n",
              "dtype: float64"
            ]
          },
          "metadata": {
            "tags": []
          },
          "execution_count": 66
        }
      ]
    },
    {
      "cell_type": "code",
      "metadata": {
        "id": "YN1CSEJhPmQi",
        "colab_type": "code",
        "colab": {
          "base_uri": "https://localhost:8080/",
          "height": 36
        },
        "outputId": "8230908e-2731-4582-e3f3-241be087da22"
      },
      "source": [
        "y_pred_org[-3]"
      ],
      "execution_count": 67,
      "outputs": [
        {
          "output_type": "execute_result",
          "data": {
            "text/plain": [
              "array([356.06948])"
            ]
          },
          "metadata": {
            "tags": []
          },
          "execution_count": 67
        }
      ]
    },
    {
      "cell_type": "code",
      "metadata": {
        "id": "lCuQZxE3P28o",
        "colab_type": "code",
        "colab": {
          "base_uri": "https://localhost:8080/",
          "height": 424
        },
        "outputId": "62265d54-b19e-498a-c606-09a427e16e75"
      },
      "source": [
        "y_test"
      ],
      "execution_count": 68,
      "outputs": [
        {
          "output_type": "execute_result",
          "data": {
            "text/html": [
              "<div>\n",
              "<style scoped>\n",
              "    .dataframe tbody tr th:only-of-type {\n",
              "        vertical-align: middle;\n",
              "    }\n",
              "\n",
              "    .dataframe tbody tr th {\n",
              "        vertical-align: top;\n",
              "    }\n",
              "\n",
              "    .dataframe thead th {\n",
              "        text-align: right;\n",
              "    }\n",
              "</style>\n",
              "<table border=\"1\" class=\"dataframe\">\n",
              "  <thead>\n",
              "    <tr style=\"text-align: right;\">\n",
              "      <th></th>\n",
              "      <th>duration</th>\n",
              "    </tr>\n",
              "  </thead>\n",
              "  <tbody>\n",
              "    <tr>\n",
              "      <th>41785</th>\n",
              "      <td>370</td>\n",
              "    </tr>\n",
              "    <tr>\n",
              "      <th>21124</th>\n",
              "      <td>574</td>\n",
              "    </tr>\n",
              "    <tr>\n",
              "      <th>6080</th>\n",
              "      <td>552</td>\n",
              "    </tr>\n",
              "    <tr>\n",
              "      <th>66720</th>\n",
              "      <td>317</td>\n",
              "    </tr>\n",
              "    <tr>\n",
              "      <th>82795</th>\n",
              "      <td>232</td>\n",
              "    </tr>\n",
              "    <tr>\n",
              "      <th>...</th>\n",
              "      <td>...</td>\n",
              "    </tr>\n",
              "    <tr>\n",
              "      <th>57468</th>\n",
              "      <td>83</td>\n",
              "    </tr>\n",
              "    <tr>\n",
              "      <th>82405</th>\n",
              "      <td>433</td>\n",
              "    </tr>\n",
              "    <tr>\n",
              "      <th>59572</th>\n",
              "      <td>395</td>\n",
              "    </tr>\n",
              "    <tr>\n",
              "      <th>38895</th>\n",
              "      <td>68</td>\n",
              "    </tr>\n",
              "    <tr>\n",
              "      <th>38688</th>\n",
              "      <td>531</td>\n",
              "    </tr>\n",
              "  </tbody>\n",
              "</table>\n",
              "<p>12111 rows × 1 columns</p>\n",
              "</div>"
            ],
            "text/plain": [
              "       duration\n",
              "41785       370\n",
              "21124       574\n",
              "6080        552\n",
              "66720       317\n",
              "82795       232\n",
              "...         ...\n",
              "57468        83\n",
              "82405       433\n",
              "59572       395\n",
              "38895        68\n",
              "38688       531\n",
              "\n",
              "[12111 rows x 1 columns]"
            ]
          },
          "metadata": {
            "tags": []
          },
          "execution_count": 68
        }
      ]
    },
    {
      "cell_type": "code",
      "metadata": {
        "id": "bl4CUkYwdfht",
        "colab_type": "code",
        "colab": {
          "base_uri": "https://localhost:8080/",
          "height": 36
        },
        "outputId": "0839e208-a50b-47ea-a80f-80923c75f304"
      },
      "source": [
        "from sklearn.linear_model import LinearRegression\n",
        "from sklearn import metrics\n",
        "regressor = LinearRegression()  \n",
        "regressor.fit(X_train, y_train)"
      ],
      "execution_count": 69,
      "outputs": [
        {
          "output_type": "execute_result",
          "data": {
            "text/plain": [
              "LinearRegression(copy_X=True, fit_intercept=True, n_jobs=None, normalize=False)"
            ]
          },
          "metadata": {
            "tags": []
          },
          "execution_count": 69
        }
      ]
    },
    {
      "cell_type": "code",
      "metadata": {
        "id": "UbbNONgVwYUP",
        "colab_type": "code",
        "colab": {
          "base_uri": "https://localhost:8080/",
          "height": 129
        },
        "outputId": "dac7e3dd-f73f-4d05-d8bb-1f3d0e7845bd"
      },
      "source": [
        "regressor.coef_"
      ],
      "execution_count": 70,
      "outputs": [
        {
          "output_type": "execute_result",
          "data": {
            "text/plain": [
              "array([[  63.05079, -110.14712,   83.74147,    6.84697,  -38.07521,   46.9941 ,  -20.89542,   45.49923,\n",
              "         -41.8085 , -110.39839,  200.08477, -102.9511 ,   15.86612,  -27.15545,    8.52975,  -18.076  ,\n",
              "          -4.12751,   22.54964,  -10.27869,    2.39815,   54.10438,   -8.47703,  474.01572,  -19.40734,\n",
              "          46.00947,   -4.40556, -491.67926,    5.24893,   -0.31751,   31.58694,  -31.58694,  -19.20639,\n",
              "         -33.14965,  -32.16514,   55.46777,   29.05341,    1.28962,   -1.28962,    2.14026,   -2.14026,\n",
              "           2.92989,   -2.92989,   -0.75551,    0.75551,   -1.34152,    1.34152,    6.11089,   -6.11089]])"
            ]
          },
          "metadata": {
            "tags": []
          },
          "execution_count": 70
        }
      ]
    },
    {
      "cell_type": "code",
      "metadata": {
        "id": "7-1Tnay3wYfX",
        "colab_type": "code",
        "colab": {}
      },
      "source": [
        "y_pred1 = regressor.predict(X_test)"
      ],
      "execution_count": 71,
      "outputs": []
    },
    {
      "cell_type": "code",
      "metadata": {
        "id": "dScsI8KhwYna",
        "colab_type": "code",
        "colab": {
          "base_uri": "https://localhost:8080/",
          "height": 73
        },
        "outputId": "4f1eaf2e-80a9-4faa-9406-fc7a6fed5dad"
      },
      "source": [
        "print('Mean Absolute Error:', metrics.mean_absolute_error(y_test, y_pred1))  \n",
        "print('Mean Squared Error:', metrics.mean_squared_error(y_test, y_pred1))  \n",
        "print('Root Mean Squared Error:', np.sqrt(metrics.mean_squared_error(y_test, y_pred1)))"
      ],
      "execution_count": 72,
      "outputs": [
        {
          "output_type": "stream",
          "text": [
            "Mean Absolute Error: 103.10345072458158\n",
            "Mean Squared Error: 14701.869311939025\n",
            "Root Mean Squared Error: 121.25126519727134\n"
          ],
          "name": "stdout"
        }
      ]
    },
    {
      "cell_type": "code",
      "metadata": {
        "id": "GO5tpickwYra",
        "colab_type": "code",
        "colab": {
          "base_uri": "https://localhost:8080/",
          "height": 36
        },
        "outputId": "cc4d05ac-4567-417c-defb-2cf6e64f8db2"
      },
      "source": [
        "y_pred1[3]"
      ],
      "execution_count": 73,
      "outputs": [
        {
          "output_type": "execute_result",
          "data": {
            "text/plain": [
              "array([365.7357])"
            ]
          },
          "metadata": {
            "tags": []
          },
          "execution_count": 73
        }
      ]
    },
    {
      "cell_type": "code",
      "metadata": {
        "id": "lhYmhBHm0o67",
        "colab_type": "code",
        "colab": {
          "base_uri": "https://localhost:8080/",
          "height": 143
        },
        "outputId": "4c81f84b-85bf-4ba9-f821-7b25c4f59187"
      },
      "source": [
        "y_test[0:3]"
      ],
      "execution_count": 74,
      "outputs": [
        {
          "output_type": "execute_result",
          "data": {
            "text/html": [
              "<div>\n",
              "<style scoped>\n",
              "    .dataframe tbody tr th:only-of-type {\n",
              "        vertical-align: middle;\n",
              "    }\n",
              "\n",
              "    .dataframe tbody tr th {\n",
              "        vertical-align: top;\n",
              "    }\n",
              "\n",
              "    .dataframe thead th {\n",
              "        text-align: right;\n",
              "    }\n",
              "</style>\n",
              "<table border=\"1\" class=\"dataframe\">\n",
              "  <thead>\n",
              "    <tr style=\"text-align: right;\">\n",
              "      <th></th>\n",
              "      <th>duration</th>\n",
              "    </tr>\n",
              "  </thead>\n",
              "  <tbody>\n",
              "    <tr>\n",
              "      <th>41785</th>\n",
              "      <td>370</td>\n",
              "    </tr>\n",
              "    <tr>\n",
              "      <th>21124</th>\n",
              "      <td>574</td>\n",
              "    </tr>\n",
              "    <tr>\n",
              "      <th>6080</th>\n",
              "      <td>552</td>\n",
              "    </tr>\n",
              "  </tbody>\n",
              "</table>\n",
              "</div>"
            ],
            "text/plain": [
              "       duration\n",
              "41785       370\n",
              "21124       574\n",
              "6080        552"
            ]
          },
          "metadata": {
            "tags": []
          },
          "execution_count": 74
        }
      ]
    },
    {
      "cell_type": "markdown",
      "metadata": {
        "id": "MTzLg76vQ6gB",
        "colab_type": "text"
      },
      "source": [
        "#Important Features"
      ]
    },
    {
      "cell_type": "code",
      "metadata": {
        "id": "ItQoaqkQQ-Fv",
        "colab_type": "code",
        "colab": {}
      },
      "source": [
        "corelation=df[df.columns[:]].corr()['duration'][:]"
      ],
      "execution_count": 75,
      "outputs": []
    },
    {
      "cell_type": "code",
      "metadata": {
        "id": "jPo1ohQhRhQA",
        "colab_type": "code",
        "colab": {
          "base_uri": "https://localhost:8080/",
          "height": 951
        },
        "outputId": "a0307824-be5d-4678-89cc-0f88f37ce42a"
      },
      "source": [
        "corelation"
      ],
      "execution_count": 76,
      "outputs": [
        {
          "output_type": "execute_result",
          "data": {
            "text/plain": [
              "duration                          1.000000\n",
              "max_temperature_f                 0.031219\n",
              "mean_temperature_f                0.039453\n",
              "min_temperature_f                 0.040159\n",
              "max_dew_point_f                   0.027952\n",
              "mean_dew_point_f                  0.027398\n",
              "min_dew_point_f                   0.027519\n",
              "max_humidity                     -0.014400\n",
              "mean_humidity                    -0.010232\n",
              "min_humidity                     -0.004323\n",
              "max_sea_level_pressure_inches    -0.030521\n",
              "mean_sea_level_pressure_inches   -0.027353\n",
              "min_sea_level_pressure_inches    -0.026247\n",
              "max_visibility_miles             -0.002993\n",
              "mean_visibility_miles             0.014174\n",
              "min_visibility_miles              0.017761\n",
              "max_wind_Speed_mph                0.025204\n",
              "mean_wind_speed_mph               0.030932\n",
              "max_gust_speed_mph                0.031491\n",
              "cloud_cover                      -0.009962\n",
              "wind_dir_degrees                  0.012012\n",
              "dock_count                        0.137371\n",
              "Year                             -0.032536\n",
              "Month                             0.045172\n",
              "Week                              0.044096\n",
              "Day                               0.012196\n",
              "Dayofweek                         0.002390\n",
              "Dayofyear                         0.046116\n",
              "hour                              0.013697\n",
              "minute                           -0.004660\n",
              "subscription_type_Customer        0.052917\n",
              "subscription_type_Subscriber     -0.052917\n",
              "city_Mountain View               -0.121800\n",
              "city_Palo Alto                   -0.067785\n",
              "city_Redwood City                -0.045483\n",
              "city_San Francisco                0.142859\n",
              "city_San Jose                    -0.050602\n",
              "Is_month_end_False                0.000089\n",
              "Is_month_end_True                -0.000089\n",
              "Is_month_start_False              0.001145\n",
              "Is_month_start_True              -0.001145\n",
              "Is_quarter_end_False              0.002171\n",
              "Is_quarter_end_True              -0.002171\n",
              "Is_quarter_start_False           -0.001976\n",
              "Is_quarter_start_True             0.001976\n",
              "Is_year_end_False                -0.005203\n",
              "Is_year_end_True                  0.005203\n",
              "Is_year_start_False               0.003118\n",
              "Is_year_start_True               -0.003118\n",
              "Name: duration, dtype: float64"
            ]
          },
          "metadata": {
            "tags": []
          },
          "execution_count": 76
        }
      ]
    },
    {
      "cell_type": "code",
      "metadata": {
        "id": "gjfjs7CuzIqy",
        "colab_type": "code",
        "colab": {}
      },
      "source": [
        ""
      ],
      "execution_count": null,
      "outputs": []
    }
  ]
}